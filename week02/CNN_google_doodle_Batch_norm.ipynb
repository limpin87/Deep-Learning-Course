{
 "cells": [
  {
   "cell_type": "code",
   "execution_count": 1,
   "metadata": {},
   "outputs": [
    {
     "name": "stderr",
     "output_type": "stream",
     "text": [
      "Using TensorFlow backend.\n"
     ]
    }
   ],
   "source": [
    "%matplotlib inline\n",
    "import matplotlib.pyplot as plt\n",
    "import numpy as np\n",
    "import pandas as pd\n",
    "\n",
    "# from sutils import *\n",
    "import os, json\n",
    "from glob import glob\n",
    "\n",
    "import tensorflow as tf\n",
    "\n",
    "import keras\n",
    "from keras.datasets import mnist\n",
    "from keras.models import Sequential, Model\n",
    "from keras.preprocessing.image import ImageDataGenerator\n",
    "from keras.layers import Dense, Dropout, Flatten,Input, BatchNormalization, Activation\n",
    "from keras.layers import Conv2D, MaxPooling2D\n",
    "from keras import backend as K\n",
    "\n",
    "from keras.callbacks import EarlyStopping,LearningRateScheduler,ReduceLROnPlateau, TensorBoard\n",
    "\n",
    "import multi_gpu"
   ]
  },
  {
   "cell_type": "code",
   "execution_count": 2,
   "metadata": {},
   "outputs": [
    {
     "name": "stdout",
     "output_type": "stream",
     "text": [
      "1.3.0\n",
      "2.0.8\n"
     ]
    }
   ],
   "source": [
    "print(tf.__version__)\n",
    "print(keras.__version__)"
   ]
  },
  {
   "cell_type": "code",
   "execution_count": 3,
   "metadata": {},
   "outputs": [
    {
     "name": "stdout",
     "output_type": "stream",
     "text": [
      "Number of classes:  345\n"
     ]
    }
   ],
   "source": [
    "fnames =  glob('/../../nfs/p4/shared/datasets/quick_draw/numpy_bitmap/*')\n",
    "# for entry in fnames:\n",
    "#     print entry\n",
    "print 'Number of classes: ', len(fnames) "
   ]
  },
  {
   "cell_type": "code",
   "execution_count": 4,
   "metadata": {
    "scrolled": true
   },
   "outputs": [
    {
     "name": "stdout",
     "output_type": "stream",
     "text": [
      "0\n",
      "1\n",
      "2\n",
      "3\n",
      "4\n",
      "5\n",
      "6\n",
      "7\n",
      "8\n",
      "9\n",
      "10\n",
      "11\n",
      "12\n",
      "13\n",
      "14\n",
      "15\n",
      "16\n",
      "17\n",
      "18\n",
      "19\n",
      "20\n",
      "21\n",
      "22\n",
      "23\n",
      "24\n",
      "25\n",
      "26\n",
      "27\n",
      "28\n",
      "29\n",
      "30\n",
      "31\n",
      "32\n",
      "33\n",
      "34\n",
      "35\n",
      "36\n",
      "37\n",
      "38\n",
      "39\n",
      "40\n",
      "41\n",
      "42\n",
      "43\n",
      "44\n",
      "45\n",
      "46\n",
      "47\n",
      "48\n",
      "49\n",
      "50\n",
      "51\n",
      "52\n",
      "53\n",
      "54\n",
      "55\n",
      "56\n",
      "57\n",
      "58\n",
      "59\n",
      "60\n",
      "61\n",
      "62\n",
      "63\n",
      "64\n",
      "65\n",
      "66\n",
      "67\n",
      "68\n",
      "69\n",
      "70\n",
      "71\n",
      "72\n",
      "73\n",
      "74\n",
      "75\n",
      "76\n",
      "77\n",
      "78\n",
      "79\n",
      "80\n",
      "81\n",
      "82\n",
      "83\n",
      "84\n",
      "85\n",
      "86\n",
      "87\n",
      "88\n",
      "89\n",
      "90\n",
      "91\n",
      "92\n",
      "93\n",
      "94\n",
      "95\n",
      "96\n",
      "97\n",
      "98\n",
      "99\n",
      "100\n"
     ]
    }
   ],
   "source": [
    "## Creating the training data set\n",
    "Npc = 8000 # Number of images to use for each class \n",
    "Npc_t = 2000  # Number of images to use for testing for each class \n",
    "n_class = 100 # Number of classes to use \n",
    "\n",
    "for i, entry in enumerate(fnames):\n",
    "    print i\n",
    "    if i >= n_class:\n",
    "        break\n",
    "    data = np.load(entry)[:Npc]\n",
    "    labels =  np.zeros([data.shape[0],n_class])\n",
    "    labels[:,i] = 1\n",
    "    if i == 0:\n",
    "        X = data[:Npc]\n",
    "        targets = labels\n",
    "    else:\n",
    "        X = np.vstack([X, data])\n",
    "        targets = np.vstack([targets,labels])\n",
    "    "
   ]
  },
  {
   "cell_type": "code",
   "execution_count": 5,
   "metadata": {},
   "outputs": [
    {
     "name": "stdout",
     "output_type": "stream",
     "text": [
      "Input shape: (800000, 784)\n",
      "Target shape: (800000, 100)\n"
     ]
    }
   ],
   "source": [
    "print 'Input shape:', X.shape\n",
    "print 'Target shape:', targets.shape"
   ]
  },
  {
   "cell_type": "code",
   "execution_count": 6,
   "metadata": {
    "collapsed": true
   },
   "outputs": [],
   "source": [
    "from sklearn.model_selection import train_test_split\n",
    "\n",
    "X_train, X_test, y_train, y_test = train_test_split(X, targets, test_size=0.33, random_state=42)\n",
    "\n",
    "X_train = X_train.astype('float32')\n",
    "X_test = X_test.astype('float32')\n",
    "X_train /= 255\n",
    "X_test /= 255"
   ]
  },
  {
   "cell_type": "code",
   "execution_count": 7,
   "metadata": {
    "collapsed": true
   },
   "outputs": [],
   "source": [
    "X_train = X_train.reshape(X_train.shape[0], 28, 28, 1)\n",
    "X_test = X_test.reshape(X_test.shape[0],28,28,1)"
   ]
  },
  {
   "cell_type": "code",
   "execution_count": 8,
   "metadata": {
    "collapsed": true
   },
   "outputs": [],
   "source": [
    "Inp = Input(shape=(28,28,1),name = 'Input_layer')\n",
    "\n",
    "#ConvBlock 01\n",
    "conv01 = Conv2D(64, (5, 5), padding='same',activation = 'relu', input_shape=Inp.shape,name = 'Conv01_layer')(Inp)\n",
    "conv01 = BatchNormalization()(conv01)\n",
    "conv02 = Conv2D(64, (5, 5),activation = 'relu',name = 'Conv02_layer')(conv01)\n",
    "maxpool_01 = MaxPooling2D(pool_size=(2, 2),name = 'MaxPool01_layer')(conv02)\n",
    "drop01 = Dropout(0.25,name = 'Dropout01_layer')(maxpool_01)\n",
    "\n",
    "#Convblock 02\n",
    "conv03 = Conv2D(128, (3, 3), padding='same',activation = 'relu',name = 'Conv03_layer')(drop01)\n",
    "conv03 = BatchNormalization()(conv03)\n",
    "conv04 = Conv2D(128, (3, 3),activation = 'relu',name = 'Conv04_layer')(conv03)\n",
    "maxpool_02 = MaxPooling2D(pool_size=(2, 2),name = 'MaxPool02_layer')(conv04)\n",
    "drop02 = Dropout(0.25,name = 'Dropout02_layer')(maxpool_02)\n",
    "\n",
    "# Fully Connected Dense block\n",
    "x = Flatten(name = 'Flatten_layer')(drop02)\n",
    "x = Dense(512, activation='relu',name = 'Dense01_layer')(x)\n",
    "x = Dropout(0.5,name = 'Dropout03_layer')(x)\n",
    "x = BatchNormalization()(x)\n",
    "logits_layer = Dense(y_train.shape[1], name= 'logits_layer')(x)\n",
    "output = Activation('softmax',name = 'Sofftmax_layer')(logits_layer)"
   ]
  },
  {
   "cell_type": "code",
   "execution_count": 9,
   "metadata": {
    "collapsed": true
   },
   "outputs": [],
   "source": [
    "# Define model inputs and output\n",
    "model = Model(Inp, output)"
   ]
  },
  {
   "cell_type": "code",
   "execution_count": 10,
   "metadata": {},
   "outputs": [
    {
     "name": "stdout",
     "output_type": "stream",
     "text": [
      "_________________________________________________________________\n",
      "Layer (type)                 Output Shape              Param #   \n",
      "=================================================================\n",
      "Input_layer (InputLayer)     (None, 28, 28, 1)         0         \n",
      "_________________________________________________________________\n",
      "Conv01_layer (Conv2D)        (None, 28, 28, 64)        1664      \n",
      "_________________________________________________________________\n",
      "batch_normalization_1 (Batch (None, 28, 28, 64)        256       \n",
      "_________________________________________________________________\n",
      "Conv02_layer (Conv2D)        (None, 24, 24, 64)        102464    \n",
      "_________________________________________________________________\n",
      "MaxPool01_layer (MaxPooling2 (None, 12, 12, 64)        0         \n",
      "_________________________________________________________________\n",
      "Dropout01_layer (Dropout)    (None, 12, 12, 64)        0         \n",
      "_________________________________________________________________\n",
      "Conv03_layer (Conv2D)        (None, 12, 12, 128)       73856     \n",
      "_________________________________________________________________\n",
      "batch_normalization_2 (Batch (None, 12, 12, 128)       512       \n",
      "_________________________________________________________________\n",
      "Conv04_layer (Conv2D)        (None, 10, 10, 128)       147584    \n",
      "_________________________________________________________________\n",
      "MaxPool02_layer (MaxPooling2 (None, 5, 5, 128)         0         \n",
      "_________________________________________________________________\n",
      "Dropout02_layer (Dropout)    (None, 5, 5, 128)         0         \n",
      "_________________________________________________________________\n",
      "Flatten_layer (Flatten)      (None, 3200)              0         \n",
      "_________________________________________________________________\n",
      "Dense01_layer (Dense)        (None, 512)               1638912   \n",
      "_________________________________________________________________\n",
      "Dropout03_layer (Dropout)    (None, 512)               0         \n",
      "_________________________________________________________________\n",
      "batch_normalization_3 (Batch (None, 512)               2048      \n",
      "_________________________________________________________________\n",
      "logits_layer (Dense)         (None, 100)               51300     \n",
      "_________________________________________________________________\n",
      "Sofftmax_layer (Activation)  (None, 100)               0         \n",
      "=================================================================\n",
      "Total params: 2,018,596\n",
      "Trainable params: 2,017,188\n",
      "Non-trainable params: 1,408\n",
      "_________________________________________________________________\n"
     ]
    }
   ],
   "source": [
    "model.summary()"
   ]
  },
  {
   "cell_type": "code",
   "execution_count": 11,
   "metadata": {},
   "outputs": [
    {
     "name": "stderr",
     "output_type": "stream",
     "text": [
      "multi_gpu.py:44: UserWarning: The `merge` function is deprecated and will be removed after 08/2017. Use instead layers from `keras.layers.merge`, e.g. `add`, `concatenate`, etc.\n",
      "  merged.append(merge(outputs, mode='concat', concat_axis=0))\n",
      "/nfs/p4/ceusers/limpin/.venv2.7-gpu/local/lib/python2.7/site-packages/keras/legacy/layers.py:458: UserWarning: The `Merge` layer is deprecated and will be removed after 08/2017. Use instead layers from `keras.layers.merge`, e.g. `add`, `concatenate`, etc.\n",
      "  name=name)\n",
      "multi_gpu.py:46: UserWarning: Update your `Model` call to the Keras 2 API: `Model(outputs=[<tf.Tenso..., inputs=[<tf.Tenso...)`\n",
      "  return Model(input=model.inputs, output=merged)\n"
     ]
    }
   ],
   "source": [
    "model = multi_gpu.make_parallel(model,2)"
   ]
  },
  {
   "cell_type": "code",
   "execution_count": 12,
   "metadata": {},
   "outputs": [],
   "source": [
    "# initiate RMSprop optimizer\n",
    "\n",
    "opt = keras.optimizers.rmsprop(lr=0.0001, decay=1e-6)\n",
    "\n",
    "callbacks = [ReduceLROnPlateau(monitor='loss'),\n",
    "            TensorBoard(log_dir=\"logs/{0}\".format(\"quickdraw_lr0.0001_dc1e-6\"))]\n",
    "\n",
    "# Let's train the model using RMSprop\n",
    "model.compile(loss='categorical_crossentropy',\n",
    "              optimizer=opt,\n",
    "              metrics=['accuracy'])"
   ]
  },
  {
   "cell_type": "code",
   "execution_count": 13,
   "metadata": {},
   "outputs": [
    {
     "name": "stdout",
     "output_type": "stream",
     "text": [
      "Using real-time data augmentation.\n"
     ]
    }
   ],
   "source": [
    "print('Using real-time data augmentation.')\n",
    "# This will do preprocessing and realtime data augmentation:\n",
    "datagen = ImageDataGenerator(\n",
    "    rotation_range=30,  # randomly rotate images in the range (degrees, 0 to 180)\n",
    "    width_shift_range=0.1,  # randomly shift images horizontally (fraction of total width)\n",
    "    height_shift_range=0.1,  # randomly shift images vertically (fraction of total height)\n",
    "    horizontal_flip=True,  # randomly flip images\n",
    "    vertical_flip=False)  # randomly flip images"
   ]
  },
  {
   "cell_type": "code",
   "execution_count": 14,
   "metadata": {
    "collapsed": true
   },
   "outputs": [],
   "source": [
    "# Compute quantities required for feature-wise normalization\n",
    "# (std, mean, and principal components if ZCA whitening is applied).\n",
    "datagen.fit(X_train)"
   ]
  },
  {
   "cell_type": "code",
   "execution_count": 15,
   "metadata": {
    "collapsed": true
   },
   "outputs": [],
   "source": [
    "batch_size = 128\n",
    "epochs = 100\n",
    "data_augmentation = True\n",
    "# num_predictions = 20\n",
    "save_dir = os.path.join(os.getcwd(), 'saved_models')\n",
    "model_name = 'cifar10_simple_CNN.h5'"
   ]
  },
  {
   "cell_type": "code",
   "execution_count": 16,
   "metadata": {
    "scrolled": true
   },
   "outputs": [
    {
     "name": "stdout",
     "output_type": "stream",
     "text": [
      "Epoch 1/100\n",
      "4187/4187 [==============================] - 297s - loss: 3.2416 - acc: 0.2404 - val_loss: 1.8676 - val_acc: 0.5290\n",
      "Epoch 2/100\n",
      "4187/4187 [==============================] - 283s - loss: 2.2509 - acc: 0.4347 - val_loss: 1.4843 - val_acc: 0.6181\n",
      "Epoch 3/100\n",
      "4187/4187 [==============================] - 281s - loss: 1.9302 - acc: 0.5073 - val_loss: 1.2947 - val_acc: 0.6628\n",
      "Epoch 4/100\n",
      "4187/4187 [==============================] - 279s - loss: 1.7688 - acc: 0.5455 - val_loss: 1.2136 - val_acc: 0.6836\n",
      "Epoch 5/100\n",
      "4187/4187 [==============================] - 282s - loss: 1.6710 - acc: 0.5691 - val_loss: 1.1458 - val_acc: 0.7016\n",
      "Epoch 6/100\n",
      "4187/4187 [==============================] - 280s - loss: 1.6037 - acc: 0.5864 - val_loss: 1.1067 - val_acc: 0.7111\n",
      "Epoch 7/100\n",
      "4187/4187 [==============================] - 279s - loss: 1.5534 - acc: 0.5990 - val_loss: 1.0852 - val_acc: 0.7160\n",
      "Epoch 8/100\n",
      "4187/4187 [==============================] - 275s - loss: 1.5155 - acc: 0.6089 - val_loss: 1.0535 - val_acc: 0.7253\n",
      "Epoch 9/100\n",
      "4187/4187 [==============================] - 277s - loss: 1.4837 - acc: 0.6173 - val_loss: 1.0317 - val_acc: 0.7304\n",
      "Epoch 10/100\n",
      "4187/4187 [==============================] - 276s - loss: 1.4583 - acc: 0.6234 - val_loss: 1.0266 - val_acc: 0.7318\n",
      "Epoch 11/100\n",
      "4187/4187 [==============================] - 279s - loss: 1.4370 - acc: 0.6294 - val_loss: 0.9994 - val_acc: 0.7386\n",
      "Epoch 12/100\n",
      "4187/4187 [==============================] - 275s - loss: 1.4192 - acc: 0.6340 - val_loss: 0.9917 - val_acc: 0.7420\n",
      "Epoch 13/100\n",
      "4187/4187 [==============================] - 278s - loss: 1.4026 - acc: 0.6378 - val_loss: 1.0030 - val_acc: 0.7396\n",
      "Epoch 14/100\n",
      "4187/4187 [==============================] - 273s - loss: 1.3847 - acc: 0.6420 - val_loss: 0.9665 - val_acc: 0.7476\n",
      "Epoch 15/100\n",
      "4187/4187 [==============================] - 276s - loss: 1.3726 - acc: 0.6454 - val_loss: 0.9571 - val_acc: 0.7494\n",
      "Epoch 16/100\n",
      "4187/4187 [==============================] - 276s - loss: 1.3630 - acc: 0.6478 - val_loss: 0.9672 - val_acc: 0.7488\n",
      "Epoch 17/100\n",
      "4187/4187 [==============================] - 275s - loss: 1.3534 - acc: 0.6506 - val_loss: 0.9547 - val_acc: 0.7514\n",
      "Epoch 18/100\n",
      "4187/4187 [==============================] - 277s - loss: 1.3485 - acc: 0.6522 - val_loss: 0.9527 - val_acc: 0.7506\n",
      "Epoch 19/100\n",
      "4187/4187 [==============================] - 276s - loss: 1.3391 - acc: 0.6551 - val_loss: 0.9625 - val_acc: 0.7509\n",
      "Epoch 20/100\n",
      "4187/4187 [==============================] - 280s - loss: 1.3311 - acc: 0.6565 - val_loss: 0.9403 - val_acc: 0.7550\n",
      "Epoch 21/100\n",
      "4187/4187 [==============================] - 274s - loss: 1.3267 - acc: 0.6579 - val_loss: 0.9398 - val_acc: 0.7556\n",
      "Epoch 22/100\n",
      "4187/4187 [==============================] - 275s - loss: 1.3217 - acc: 0.6599 - val_loss: 0.9437 - val_acc: 0.7545\n",
      "Epoch 23/100\n",
      "4187/4187 [==============================] - 275s - loss: 1.3137 - acc: 0.6616 - val_loss: 0.9367 - val_acc: 0.7575\n",
      "Epoch 24/100\n",
      "4187/4187 [==============================] - 275s - loss: 1.3110 - acc: 0.6626 - val_loss: 0.9237 - val_acc: 0.7593\n",
      "Epoch 25/100\n",
      "4187/4187 [==============================] - 278s - loss: 1.3073 - acc: 0.6635 - val_loss: 0.9228 - val_acc: 0.7599\n",
      "Epoch 26/100\n",
      "4187/4187 [==============================] - 276s - loss: 1.3025 - acc: 0.6650 - val_loss: 0.9189 - val_acc: 0.7609\n",
      "Epoch 27/100\n",
      "4187/4187 [==============================] - 275s - loss: 1.2994 - acc: 0.6661 - val_loss: 0.9166 - val_acc: 0.7622\n",
      "Epoch 28/100\n",
      "4187/4187 [==============================] - 275s - loss: 1.2972 - acc: 0.6668 - val_loss: 0.9248 - val_acc: 0.7606\n",
      "Epoch 29/100\n",
      "4187/4187 [==============================] - 273s - loss: 1.2932 - acc: 0.6683 - val_loss: 0.9292 - val_acc: 0.7605\n",
      "Epoch 30/100\n",
      "4187/4187 [==============================] - 272s - loss: 1.2894 - acc: 0.6685 - val_loss: 0.9142 - val_acc: 0.7626\n",
      "Epoch 31/100\n",
      "4187/4187 [==============================] - 271s - loss: 1.2864 - acc: 0.6706 - val_loss: 0.9157 - val_acc: 0.7623\n",
      "Epoch 32/100\n",
      "4187/4187 [==============================] - 273s - loss: 1.2855 - acc: 0.6701 - val_loss: 0.9069 - val_acc: 0.7648\n",
      "Epoch 33/100\n",
      "4187/4187 [==============================] - 272s - loss: 1.2823 - acc: 0.6706 - val_loss: 0.9096 - val_acc: 0.7648\n",
      "Epoch 34/100\n",
      "4187/4187 [==============================] - 277s - loss: 1.2788 - acc: 0.6723 - val_loss: 0.9089 - val_acc: 0.7639\n",
      "Epoch 35/100\n",
      "4187/4187 [==============================] - 273s - loss: 1.2793 - acc: 0.6720 - val_loss: 0.9065 - val_acc: 0.7652\n",
      "Epoch 36/100\n",
      "4187/4187 [==============================] - 275s - loss: 1.2754 - acc: 0.6730 - val_loss: 0.9033 - val_acc: 0.7651\n",
      "Epoch 37/100\n",
      "4187/4187 [==============================] - 276s - loss: 1.2735 - acc: 0.6741 - val_loss: 0.9003 - val_acc: 0.7666\n",
      "Epoch 38/100\n",
      "4187/4187 [==============================] - 278s - loss: 1.2711 - acc: 0.6744 - val_loss: 0.9017 - val_acc: 0.7670\n",
      "Epoch 39/100\n",
      "4187/4187 [==============================] - 277s - loss: 1.2687 - acc: 0.6758 - val_loss: 0.8967 - val_acc: 0.7679\n",
      "Epoch 40/100\n",
      "4187/4187 [==============================] - 274s - loss: 1.2707 - acc: 0.6739 - val_loss: 0.9000 - val_acc: 0.7672\n",
      "Epoch 41/100\n",
      "4187/4187 [==============================] - 279s - loss: 1.2648 - acc: 0.6762 - val_loss: 0.9010 - val_acc: 0.7667\n",
      "Epoch 42/100\n",
      "4187/4187 [==============================] - 275s - loss: 1.2661 - acc: 0.6754 - val_loss: 0.8918 - val_acc: 0.7681\n",
      "Epoch 43/100\n",
      "4187/4187 [==============================] - 277s - loss: 1.2621 - acc: 0.6772 - val_loss: 0.9000 - val_acc: 0.7678\n",
      "Epoch 44/100\n",
      "4187/4187 [==============================] - 274s - loss: 1.2630 - acc: 0.6766 - val_loss: 0.9015 - val_acc: 0.7668\n",
      "Epoch 45/100\n",
      "4187/4187 [==============================] - 278s - loss: 1.2586 - acc: 0.6773 - val_loss: 0.9016 - val_acc: 0.7677\n",
      "Epoch 46/100\n",
      "4187/4187 [==============================] - 277s - loss: 1.2601 - acc: 0.6778 - val_loss: 0.8883 - val_acc: 0.7695\n",
      "Epoch 47/100\n",
      "4187/4187 [==============================] - 277s - loss: 1.2574 - acc: 0.6785 - val_loss: 0.8985 - val_acc: 0.7682\n",
      "Epoch 48/100\n",
      "4187/4187 [==============================] - 275s - loss: 1.2568 - acc: 0.6784 - val_loss: 0.9041 - val_acc: 0.7678\n",
      "Epoch 49/100\n",
      "4187/4187 [==============================] - 277s - loss: 1.2556 - acc: 0.6787 - val_loss: 0.8885 - val_acc: 0.7708\n",
      "Epoch 50/100\n",
      "4187/4187 [==============================] - 277s - loss: 1.2532 - acc: 0.6799 - val_loss: 0.8890 - val_acc: 0.7701\n",
      "Epoch 51/100\n",
      "4187/4187 [==============================] - 276s - loss: 1.2535 - acc: 0.6801 - val_loss: 0.8889 - val_acc: 0.7702\n",
      "Epoch 52/100\n",
      "4187/4187 [==============================] - 275s - loss: 1.2525 - acc: 0.6801 - val_loss: 0.8876 - val_acc: 0.7705\n",
      "Epoch 53/100\n",
      "4187/4187 [==============================] - 275s - loss: 1.2518 - acc: 0.6801 - val_loss: 0.8874 - val_acc: 0.7706\n",
      "Epoch 54/100\n",
      "4187/4187 [==============================] - 273s - loss: 1.2502 - acc: 0.6803 - val_loss: 0.9098 - val_acc: 0.7662\n",
      "Epoch 55/100\n",
      "4187/4187 [==============================] - 275s - loss: 1.2469 - acc: 0.6811 - val_loss: 0.8919 - val_acc: 0.7695\n",
      "Epoch 56/100\n",
      "4187/4187 [==============================] - 276s - loss: 1.2487 - acc: 0.6812 - val_loss: 0.8893 - val_acc: 0.7709\n",
      "Epoch 57/100\n",
      "4187/4187 [==============================] - 273s - loss: 1.2479 - acc: 0.6816 - val_loss: 0.9001 - val_acc: 0.7676\n",
      "Epoch 58/100\n",
      "4187/4187 [==============================] - 274s - loss: 1.2456 - acc: 0.6821 - val_loss: 0.8831 - val_acc: 0.7710\n",
      "Epoch 59/100\n",
      "4187/4187 [==============================] - 277s - loss: 1.2450 - acc: 0.6820 - val_loss: 0.8915 - val_acc: 0.7713\n",
      "Epoch 60/100\n",
      "4187/4187 [==============================] - 276s - loss: 1.2448 - acc: 0.6821 - val_loss: 0.8789 - val_acc: 0.7727\n",
      "Epoch 61/100\n",
      "4187/4187 [==============================] - 275s - loss: 1.2435 - acc: 0.6830 - val_loss: 0.8882 - val_acc: 0.7711\n",
      "Epoch 62/100\n",
      "4187/4187 [==============================] - 274s - loss: 1.2444 - acc: 0.6821 - val_loss: 0.8760 - val_acc: 0.7736\n",
      "Epoch 63/100\n",
      "4187/4187 [==============================] - 275s - loss: 1.2417 - acc: 0.6830 - val_loss: 0.8870 - val_acc: 0.7728\n",
      "Epoch 64/100\n"
     ]
    },
    {
     "name": "stdout",
     "output_type": "stream",
     "text": [
      "4187/4187 [==============================] - 278s - loss: 1.2419 - acc: 0.6829 - val_loss: 0.8814 - val_acc: 0.7718\n",
      "Epoch 65/100\n",
      "4187/4187 [==============================] - 280s - loss: 1.2403 - acc: 0.6839 - val_loss: 0.8750 - val_acc: 0.7734\n",
      "Epoch 66/100\n",
      "4187/4187 [==============================] - 278s - loss: 1.2396 - acc: 0.6834 - val_loss: 0.8829 - val_acc: 0.7718\n",
      "Epoch 67/100\n",
      "4187/4187 [==============================] - 277s - loss: 1.2366 - acc: 0.6847 - val_loss: 0.8806 - val_acc: 0.7725\n",
      "Epoch 68/100\n",
      "4187/4187 [==============================] - 280s - loss: 1.2368 - acc: 0.6844 - val_loss: 0.8771 - val_acc: 0.7731\n",
      "Epoch 69/100\n",
      "4187/4187 [==============================] - 278s - loss: 1.2384 - acc: 0.6843 - val_loss: 0.8830 - val_acc: 0.7723\n",
      "Epoch 70/100\n",
      "4187/4187 [==============================] - 280s - loss: 1.2382 - acc: 0.6844 - val_loss: 0.8806 - val_acc: 0.7731\n",
      "Epoch 71/100\n",
      "4187/4187 [==============================] - 278s - loss: 1.2353 - acc: 0.6847 - val_loss: 0.8768 - val_acc: 0.7738\n",
      "Epoch 72/100\n",
      "4187/4187 [==============================] - 278s - loss: 1.2339 - acc: 0.6849 - val_loss: 0.8780 - val_acc: 0.7727\n",
      "Epoch 73/100\n",
      "4187/4187 [==============================] - 279s - loss: 1.2344 - acc: 0.6859 - val_loss: 0.8724 - val_acc: 0.7750\n",
      "Epoch 74/100\n",
      "4187/4187 [==============================] - 279s - loss: 1.2337 - acc: 0.6847 - val_loss: 0.8724 - val_acc: 0.7741\n",
      "Epoch 75/100\n",
      "4187/4187 [==============================] - 279s - loss: 1.2343 - acc: 0.6854 - val_loss: 0.8761 - val_acc: 0.7736\n",
      "Epoch 76/100\n",
      "4187/4187 [==============================] - 278s - loss: 1.2311 - acc: 0.6854 - val_loss: 0.8735 - val_acc: 0.7750\n",
      "Epoch 77/100\n",
      "4187/4187 [==============================] - 281s - loss: 1.2297 - acc: 0.6867 - val_loss: 0.8772 - val_acc: 0.7742\n",
      "Epoch 78/100\n",
      "4187/4187 [==============================] - 278s - loss: 1.2303 - acc: 0.6860 - val_loss: 0.8727 - val_acc: 0.7746\n",
      "Epoch 79/100\n",
      "4187/4187 [==============================] - 280s - loss: 1.2294 - acc: 0.6857 - val_loss: 0.8764 - val_acc: 0.7750\n",
      "Epoch 80/100\n",
      "4187/4187 [==============================] - 279s - loss: 1.2293 - acc: 0.6866 - val_loss: 0.8718 - val_acc: 0.7752\n",
      "Epoch 81/100\n",
      "4187/4187 [==============================] - 280s - loss: 1.2305 - acc: 0.6865 - val_loss: 0.8782 - val_acc: 0.7734\n",
      "Epoch 82/100\n",
      "4187/4187 [==============================] - 279s - loss: 1.2285 - acc: 0.6859 - val_loss: 0.8702 - val_acc: 0.7759\n",
      "Epoch 83/100\n",
      "4187/4187 [==============================] - 281s - loss: 1.2285 - acc: 0.6868 - val_loss: 0.8703 - val_acc: 0.7759\n",
      "Epoch 84/100\n",
      "4187/4187 [==============================] - 278s - loss: 1.2293 - acc: 0.6865 - val_loss: 0.8762 - val_acc: 0.7741\n",
      "Epoch 85/100\n",
      "4187/4187 [==============================] - 279s - loss: 1.2265 - acc: 0.6872 - val_loss: 0.8738 - val_acc: 0.7752\n",
      "Epoch 86/100\n",
      "4187/4187 [==============================] - 279s - loss: 1.2267 - acc: 0.6870 - val_loss: 0.8744 - val_acc: 0.7764\n",
      "Epoch 87/100\n",
      "4187/4187 [==============================] - 277s - loss: 1.2267 - acc: 0.6874 - val_loss: 0.8836 - val_acc: 0.7729\n",
      "Epoch 88/100\n",
      "4187/4187 [==============================] - 283s - loss: 1.2257 - acc: 0.6870 - val_loss: 0.8686 - val_acc: 0.7763\n",
      "Epoch 89/100\n",
      "4187/4187 [==============================] - 279s - loss: 1.2249 - acc: 0.6881 - val_loss: 0.8709 - val_acc: 0.7755\n",
      "Epoch 90/100\n",
      "4187/4187 [==============================] - 279s - loss: 1.2243 - acc: 0.6878 - val_loss: 0.8766 - val_acc: 0.7756\n",
      "Epoch 91/100\n",
      "4187/4187 [==============================] - 277s - loss: 1.2235 - acc: 0.6880 - val_loss: 0.8687 - val_acc: 0.7768\n",
      "Epoch 92/100\n",
      "4187/4187 [==============================] - 276s - loss: 1.2245 - acc: 0.6881 - val_loss: 0.8719 - val_acc: 0.7764\n",
      "Epoch 93/100\n",
      "4187/4187 [==============================] - 279s - loss: 1.2252 - acc: 0.6875 - val_loss: 0.8675 - val_acc: 0.7761\n",
      "Epoch 94/100\n",
      "4187/4187 [==============================] - 278s - loss: 1.2234 - acc: 0.6882 - val_loss: 0.8702 - val_acc: 0.7749\n",
      "Epoch 95/100\n",
      "4187/4187 [==============================] - 276s - loss: 1.2250 - acc: 0.6877 - val_loss: 0.8669 - val_acc: 0.7776\n",
      "Epoch 96/100\n",
      "4187/4187 [==============================] - 278s - loss: 1.2214 - acc: 0.6893 - val_loss: 0.8768 - val_acc: 0.7765\n",
      "Epoch 97/100\n",
      "4187/4187 [==============================] - 277s - loss: 1.2206 - acc: 0.6889 - val_loss: 0.8770 - val_acc: 0.7773\n",
      "Epoch 98/100\n",
      "4187/4187 [==============================] - 278s - loss: 1.2220 - acc: 0.6883 - val_loss: 0.8665 - val_acc: 0.7758\n",
      "Epoch 99/100\n",
      "4187/4187 [==============================] - 279s - loss: 1.2207 - acc: 0.6892 - val_loss: 0.8666 - val_acc: 0.7763\n",
      "Epoch 100/100\n",
      "4187/4187 [==============================] - 278s - loss: 1.2240 - acc: 0.6876 - val_loss: 0.8695 - val_acc: 0.7763\n"
     ]
    }
   ],
   "source": [
    "hist = model.fit_generator(datagen.flow(X_train, y_train, batch_size=batch_size),\n",
    "                            steps_per_epoch=X_train.shape[0] // batch_size,\n",
    "                            epochs=epochs,\n",
    "                            callbacks = callbacks,\n",
    "                            validation_data=(X_test, y_test),\n",
    "                            workers=50)"
   ]
  },
  {
   "cell_type": "code",
   "execution_count": 17,
   "metadata": {
    "collapsed": true
   },
   "outputs": [],
   "source": [
    "def plot_train(hist):\n",
    "    h = hist.history\n",
    "    if 'acc' in h:\n",
    "        meas='acc'\n",
    "        loc='lower right'\n",
    "    else:\n",
    "        meas='loss'\n",
    "        loc='upper right'\n",
    "    plt.plot(hist.history[meas])\n",
    "    plt.plot(hist.history['val_'+meas])\n",
    "    plt.title('model '+meas)\n",
    "    plt.ylabel(meas)\n",
    "    plt.xlabel('epoch')\n",
    "    plt.legend(['train', 'validation'], loc=loc)\n",
    "    "
   ]
  },
  {
   "cell_type": "code",
   "execution_count": 18,
   "metadata": {},
   "outputs": [
    {
     "data": {
      "image/png": "[encoded data removed]",
      "text/plain": [
       "<matplotlib.figure.Figure at 0x7f68eac02bd0>"
      ]
     },
     "metadata": {},
     "output_type": "display_data"
    }
   ],
   "source": [
    "plot_train(hist)"
   ]
  },
  {
   "cell_type": "code",
   "execution_count": null,
   "metadata": {
    "collapsed": true
   },
   "outputs": [],
   "source": []
  }
 ],
 "metadata": {
  "kernelspec": {
   "display_name": "Python 2",
   "language": "python",
   "name": "python2"
  },
  "language_info": {
   "codemirror_mode": {
    "name": "ipython",
    "version": 2
   },
   "file_extension": ".py",
   "mimetype": "text/x-python",
   "name": "python",
   "nbconvert_exporter": "python",
   "pygments_lexer": "ipython2",
   "version": "2.7.12"
  }
 },
 "nbformat": 4,
 "nbformat_minor": 2
}
