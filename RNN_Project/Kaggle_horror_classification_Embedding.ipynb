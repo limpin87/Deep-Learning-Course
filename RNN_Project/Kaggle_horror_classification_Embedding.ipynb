{
 "cells": [
  {
   "cell_type": "code",
   "execution_count": 1,
   "metadata": {},
   "outputs": [
    {
     "name": "stderr",
     "output_type": "stream",
     "text": [
      "Using TensorFlow backend.\n"
     ]
    }
   ],
   "source": [
    "import numpy as np\n",
    "import pandas as pd\n",
    "import sys\n",
    "\n",
    "import keras\n",
    "from keras.models import Sequential, Model, load_model\n",
    "from keras.layers import Dense, LSTM, Dropout, Input, Activation, Embedding, Conv1D, GlobalMaxPooling1D\n",
    "from keras.optimizers import RMSprop, Adam\n",
    "\n",
    "from keras.callbacks import ModelCheckpoint, TensorBoard\n",
    "from keras.utils import np_utils\n",
    "\n",
    "from nltk import word_tokenize   \n",
    "\n",
    "import tensorflow as tf"
   ]
  },
  {
   "cell_type": "code",
   "execution_count": 2,
   "metadata": {},
   "outputs": [
    {
     "name": "stdout",
     "output_type": "stream",
     "text": [
      "1.3.0\n",
      "2.0.8\n"
     ]
    }
   ],
   "source": [
    "print(tf.__version__)\n",
    "print(keras.__version__)"
   ]
  },
  {
   "cell_type": "code",
   "execution_count": 3,
   "metadata": {},
   "outputs": [
    {
     "name": "stdout",
     "output_type": "stream",
     "text": [
      "Number of training and examples originally: (19579, 3) (8392, 2)\n",
      "Training dataset and validation dataset: (15663, 3) (3916, 3)\n"
     ]
    }
   ],
   "source": [
    "## Loading the training and testing dataset\n",
    "train_df = pd.read_csv('Data/train.csv')\n",
    "test_df = pd.read_csv('Data/test.csv')\n",
    "# train_df = train_df[:1000]\n",
    "print \"Number of training and examples originally:\", train_df.shape, test_df.shape\n",
    "\n",
    "## Split training dataset into training and validation\n",
    "from sklearn.model_selection import train_test_split\n",
    "train_df, valid_df = train_test_split(train_df, test_size = 0.2)\n",
    "print \"Training dataset and validation dataset:\", train_df.shape, valid_df.shape"
   ]
  },
  {
   "cell_type": "code",
   "execution_count": 4,
   "metadata": {},
   "outputs": [
    {
     "name": "stdout",
     "output_type": "stream",
     "text": [
      "The number of words within the Brown Corpus:  476965\n",
      "Total Unique chars:  23255\n"
     ]
    }
   ],
   "source": [
    "## Making use of a text corpus within NLTK\n",
    "## Used to download the various corpus only first time installation\n",
    "# nltk.download()\n",
    "\n",
    "# from nltk.corpus import brown\n",
    "# corpus = brown.words() # Using all the word in the brown corpus\n",
    "# # corpus = brown.words(categories='mystery') # Using only the mystery category within the brown corpus\n",
    "# corpus = [w.lower() for w in corpus]\n",
    "\n",
    "corpus = [word.lower() for sent in train_df.text for word in word_tokenize(sent.decode('utf-8')) ]\n",
    "# corpus = [w.lower() for w in corpus]\n",
    "\n",
    "# create mapping of unique chars to integers\n",
    "words = sorted(list(set(corpus)))\n",
    "word_to_int = dict((c, i) for i, c in enumerate(words))\n",
    "int_to_word = dict((i, c) for i, c in enumerate(words))\n",
    "\n",
    "# summarize the loaded data\n",
    "n_vocab = len(words)\n",
    "print \"The number of words within the Brown Corpus: \", len(corpus)\n",
    "print \"Total Unique chars: \", n_vocab"
   ]
  },
  {
   "cell_type": "code",
   "execution_count": 5,
   "metadata": {},
   "outputs": [
    {
     "name": "stdout",
     "output_type": "stream",
     "text": [
      "597\n"
     ]
    }
   ],
   "source": [
    "## Tokenize the sentences into words and find the longest sentence\n",
    "maxlen = max([len(word_tokenize(sent.decode('utf-8'))) for sent in train_df.text])\n",
    "print maxlen"
   ]
  },
  {
   "cell_type": "code",
   "execution_count": 6,
   "metadata": {
    "collapsed": true
   },
   "outputs": [],
   "source": [
    "trainX = []\n",
    "validX = []\n",
    "testX = []\n",
    "for sentence in train_df.text:\n",
    "    trainX.append([word_to_int[word.lower()] for word in word_tokenize(sentence.decode('utf-8'))])\n",
    "for sentence in valid_df.text:\n",
    "    validX.append([word_to_int[word.lower()] for word in word_tokenize(sentence.decode('utf-8')) if word in word_to_int.keys()] )\n",
    "for sentence in test_df.text:\n",
    "    testX.append([word_to_int[word.lower()] for word in word_tokenize(sentence.decode('utf-8')) if word in word_to_int.keys()] )"
   ]
  },
  {
   "cell_type": "code",
   "execution_count": 7,
   "metadata": {
    "collapsed": true
   },
   "outputs": [],
   "source": [
    "from keras.preprocessing import sequence\n",
    "\n",
    "trainX = sequence.pad_sequences(trainX, maxlen=maxlen)\n",
    "validX = sequence.pad_sequences(validX, maxlen=maxlen)\n",
    "testX = sequence.pad_sequences(testX,maxlen=maxlen)"
   ]
  },
  {
   "cell_type": "code",
   "execution_count": 8,
   "metadata": {},
   "outputs": [
    {
     "name": "stdout",
     "output_type": "stream",
     "text": [
      "['EAP', 'HPL', 'MWS']\n"
     ]
    }
   ],
   "source": [
    "from sklearn.preprocessing import LabelEncoder\n",
    "from keras.utils import to_categorical\n",
    "le = LabelEncoder()\n",
    "le.fit(train_df.author)\n",
    "\n",
    "print list(le.classes_)\n",
    "trainy = to_categorical(le.transform(train_df.author))\n",
    "validy = to_categorical(le.transform(valid_df.author))"
   ]
  },
  {
   "cell_type": "code",
   "execution_count": 9,
   "metadata": {},
   "outputs": [
    {
     "name": "stdout",
     "output_type": "stream",
     "text": [
      "Our input shape is  (15663, 597)\n"
     ]
    }
   ],
   "source": [
    "# define the input shape\n",
    "inp = Input(shape=(trainX.shape[0],trainX.shape[1]))\n",
    "print 'Our input shape is ',trainX.shape"
   ]
  },
  {
   "cell_type": "code",
   "execution_count": 10,
   "metadata": {
    "scrolled": true
   },
   "outputs": [
    {
     "name": "stdout",
     "output_type": "stream",
     "text": [
      "_________________________________________________________________\n",
      "Layer (type)                 Output Shape              Param #   \n",
      "=================================================================\n",
      "embedding_1 (Embedding)      (None, 597, 50)           1162750   \n",
      "_________________________________________________________________\n",
      "lstm_1 (LSTM)                (None, 256)               314368    \n",
      "_________________________________________________________________\n",
      "dense_1 (Dense)              (None, 3)                 771       \n",
      "=================================================================\n",
      "Total params: 1,477,889\n",
      "Trainable params: 1,477,889\n",
      "Non-trainable params: 0\n",
      "_________________________________________________________________\n",
      "None\n"
     ]
    }
   ],
   "source": [
    "embedding_vecor_length = 50\n",
    "model = Sequential()\n",
    "model.add(Embedding(n_vocab, embedding_vecor_length, input_length=maxlen))\n",
    "model.add(LSTM(256, dropout=0.2, recurrent_dropout=0.2))\n",
    "model.add(Dense(3, activation='sigmoid'))\n",
    "model.compile(loss='binary_crossentropy', optimizer='adam', metrics=['accuracy'])\n",
    "print(model.summary())"
   ]
  },
  {
   "cell_type": "code",
   "execution_count": 11,
   "metadata": {
    "collapsed": true
   },
   "outputs": [],
   "source": [
    "# import h5py as h5py\n",
    "filepath=\"checkpoints/weights-improvement-{epoch:02d}-{loss:.4f}-gentext-CharRNN-simple.hdf5\"\n",
    "checkpoint = ModelCheckpoint(filepath, monitor='loss', verbose=1, save_best_only=True, mode='min')\n",
    "\n",
    "TB = TensorBoard(log_dir='./logs_1_11_2017', histogram_freq=1, write_grads=True, embeddings_freq=1)\n",
    "\n",
    "# callbacks_list = [checkpoint,TB]\n",
    "callbacks_list= [TB]"
   ]
  },
  {
   "cell_type": "code",
   "execution_count": 13,
   "metadata": {},
   "outputs": [],
   "source": [
    "# h5py.__file__"
   ]
  },
  {
   "cell_type": "code",
   "execution_count": 14,
   "metadata": {},
   "outputs": [
    {
     "name": "stdout",
     "output_type": "stream",
     "text": [
      "Train on 15663 samples, validate on 3916 samples\n",
      "Epoch 1/10\n",
      "15663/15663 [==============================] - 889s - loss: 0.4847 - acc: 0.7656 - val_loss: 0.3402 - val_acc: 0.8564\n",
      "Epoch 2/10\n",
      "15663/15663 [==============================] - 784s - loss: 0.2207 - acc: 0.9135 - val_loss: 0.3260 - val_acc: 0.8608\n",
      "Epoch 3/10\n",
      "15663/15663 [==============================] - 846s - loss: 0.1242 - acc: 0.9544 - val_loss: 0.3639 - val_acc: 0.8629\n",
      "Epoch 4/10\n",
      "15663/15663 [==============================] - 841s - loss: 0.0828 - acc: 0.9709 - val_loss: 0.4259 - val_acc: 0.8573\n",
      "Epoch 5/10\n",
      "15663/15663 [==============================] - 837s - loss: 0.0576 - acc: 0.9792 - val_loss: 0.4936 - val_acc: 0.8540\n",
      "Epoch 6/10\n",
      "15663/15663 [==============================] - 786s - loss: 0.0407 - acc: 0.9855 - val_loss: 0.5235 - val_acc: 0.8540\n",
      "Epoch 7/10\n",
      "15663/15663 [==============================] - 784s - loss: 0.0351 - acc: 0.9873 - val_loss: 0.5530 - val_acc: 0.8524\n",
      "Epoch 8/10\n",
      "15663/15663 [==============================] - 785s - loss: 0.0282 - acc: 0.9897 - val_loss: 0.5687 - val_acc: 0.8477\n",
      "Epoch 9/10\n",
      "15663/15663 [==============================] - 785s - loss: 0.0196 - acc: 0.9935 - val_loss: 0.6789 - val_acc: 0.8510\n",
      "Epoch 10/10\n",
      "15663/15663 [==============================] - 825s - loss: 0.0241 - acc: 0.9917 - val_loss: 0.6623 - val_acc: 0.8522\n"
     ]
    },
    {
     "data": {
      "text/plain": [
       "<keras.callbacks.History at 0x7f93393fd150>"
      ]
     },
     "execution_count": 14,
     "metadata": {},
     "output_type": "execute_result"
    }
   ],
   "source": [
    "model.fit(trainX, trainy, epochs=10, batch_size=32, validation_data=(validX,validy), callbacks=callbacks_list)"
   ]
  },
  {
   "cell_type": "code",
   "execution_count": 16,
   "metadata": {},
   "outputs": [],
   "source": [
    "y_hat = model.predict(testX)\n",
    "for i,name in enumerate(list(le.classes_)):\n",
    "    test_df[name] = y_hat[:,i]\n",
    "submission = test_df.drop('text',axis=1)\n",
    "submission.to_csv('Submission1.csv',index=False)"
   ]
  },
  {
   "cell_type": "code",
   "execution_count": 47,
   "metadata": {
    "collapsed": true
   },
   "outputs": [],
   "source": [
    "# x = LSTM(256, return_sequences = True)(inp)\n",
    "# x = Dropout(0.2)(x)\n",
    "# output = Dense(1, activation ='softmax')(x)\n",
    "\n",
    "# generative_model = Model(inputs = inp, outputs=output )\n",
    "\n",
    "# optimizer = RMSprop(lr=0.01)\n",
    "# generative_model.compile(loss='categorical_crossentropy', optimizer='adam')\n",
    "\n",
    "# filepath=\"checkpoints/weights-improvement-{epoch:02d}-{loss:.4f}-gentext-CharRNN-simple.hdf5\"\n",
    "# checkpoint = ModelCheckpoint(filepath, monitor='loss', verbose=1, save_best_only=True, mode='min')\n",
    "# callbacks_list = [checkpoint]"
   ]
  },
  {
   "cell_type": "code",
   "execution_count": null,
   "metadata": {
    "collapsed": true
   },
   "outputs": [],
   "source": [
    "# generative_model.fit(trainX, trainy, epochs=10, batch_size=64, callbacks=callbacks_list)"
   ]
  }
 ],
 "metadata": {
  "kernelspec": {
   "display_name": "Python 2",
   "language": "python",
   "name": "python2"
  },
  "language_info": {
   "codemirror_mode": {
    "name": "ipython",
    "version": 2
   },
   "file_extension": ".py",
   "mimetype": "text/x-python",
   "name": "python",
   "nbconvert_exporter": "python",
   "pygments_lexer": "ipython2",
   "version": "2.7.12"
  }
 },
 "nbformat": 4,
 "nbformat_minor": 2
}
