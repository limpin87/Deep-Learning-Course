{
 "cells": [
  {
   "cell_type": "code",
   "execution_count": 5,
   "metadata": {},
   "outputs": [],
   "source": [
    "import matplotlib.pyplot as plt\n",
    "import keras\n",
    "from keras.models import Model, Sequential\n",
    "from keras.layers import *\n",
    "from keras.optimizers import Adam, Adagrad, Adadelta, Adamax, SGD\n",
    "\n",
    "import tensorflow as tf\n",
    "import numpy as np\n",
    "\n",
    "import pandas as pd\n",
    "from sklearn.model_selection import train_test_split\n",
    "from sklearn.preprocessing import OneHotEncoder, LabelBinarizer\n",
    "\n",
    "%matplotlib inline"
   ]
  },
  {
   "cell_type": "code",
   "execution_count": 6,
   "metadata": {},
   "outputs": [
    {
     "name": "stderr",
     "output_type": "stream",
     "text": [
      "/nfs/p4/ceusers/limpin/.venv2.7-gpu/lib/python2.7/site-packages/ipykernel_launcher.py:5: DeprecationWarning: This function is deprecated. Please call randint(0, 100 + 1) instead\n",
      "  \"\"\"\n"
     ]
    },
    {
     "name": "stdout",
     "output_type": "stream",
     "text": [
      "Size of Training set (79603, 2)\n"
     ]
    }
   ],
   "source": [
    "## Creating a Dataset\n",
    "N_datapoints = 100000\n",
    "n_labels = 100\n",
    "\n",
    "X = np.random.random_integers(0,n_labels,size=(N_datapoints,2))\n",
    "y = np.sum(X,axis=1)\n",
    "\n",
    "## Normalizing the inputs\n",
    "X = X/100.0\n",
    "\n",
    "## Converting the Outputs into one-hot encoding (classification)\n",
    "# y_OH = np.zeros((len(y),2*n_labels+1))\n",
    "# for i, val in enumerate(y):\n",
    "#     y_OH[i,val] = 1\n",
    "\n",
    "lb = LabelBinarizer()\n",
    "y_OH = lb.fit_transform(y)\n",
    "\n",
    "# OHE =  OneHotEncoder()\n",
    "# y_OH  = OHE.fit_transform(y[:])\n",
    "\n",
    "\n",
    "## Train Test Split of the dataset\n",
    "X_train, X_test, y_train, y_test = train_test_split(X, y_OH, test_size=0.2, random_state=42)\n",
    "\n",
    "## Removal of 50 from the train set\n",
    "ind50  = y_train[:,49] == 1\n",
    "y50 = y_train[ind50]\n",
    "y_train = y_train[~ind50,:]\n",
    "x50 = X_train[ind50,:]\n",
    "X_train = X_train[~ind50,:]\n",
    "\n",
    "print 'Size of Training set', X_train.shape"
   ]
  },
  {
   "cell_type": "code",
   "execution_count": 7,
   "metadata": {},
   "outputs": [
    {
     "name": "stdout",
     "output_type": "stream",
     "text": [
      "_________________________________________________________________\n",
      "Layer (type)                 Output Shape              Param #   \n",
      "=================================================================\n",
      "input_1 (InputLayer)         (None, 2)                 0         \n",
      "_________________________________________________________________\n",
      "Dense_1 (Dense)              (None, 100)               300       \n",
      "_________________________________________________________________\n",
      "Dense_2 (Dense)              (None, 100)               10100     \n",
      "_________________________________________________________________\n",
      "Dense_3 (Dense)              (None, 200)               20200     \n",
      "_________________________________________________________________\n",
      "Outputlayer (Dense)          (None, 201)               40401     \n",
      "=================================================================\n",
      "Total params: 71,001\n",
      "Trainable params: 71,001\n",
      "Non-trainable params: 0\n",
      "_________________________________________________________________\n"
     ]
    }
   ],
   "source": [
    "## Creating the Deep-learning network\n",
    "# Training Parameters \n",
    "learning_rate = 0.1\n",
    "training_epochs = 1000\n",
    "decay_rate = learning_rate / training_epochs \n",
    "# momentum = 0.8\n",
    "# adam = Adam(lr=learning_rate, decay=decay_rate)\n",
    "\n",
    "batch_size = int(0.6*N_datapoints)\n",
    "\n",
    "# Network Parameters\n",
    "n_hidden_1 = 100 # 1st layer number of neurons\n",
    "n_hidden_2 = 100 # 2nd layer number of neurons\n",
    "n_hidden_3 = 200 # 2nd layer number of neurons\n",
    "n_classes = 2*n_labels+1 # MNIST classes for prediction(digits 0-9 )\n",
    "\n",
    "Inp = Input(shape=(X_train.shape[1],))\n",
    "x = Dense(n_hidden_1, activation='relu', name = \"Dense_1\")(Inp)\n",
    "# x = Dropout(0.8)(x)\n",
    "x = Dense(n_hidden_2, activation='tanh', name = \"Dense_2\")(x)\n",
    "# x = Dropout(0.8)(x)\n",
    "x = Dense(n_hidden_3, activation='tanh', name = \"Dense_3\")(x)\n",
    "# x = Dropout(0.5)(x)\n",
    "output = Dense(n_classes, activation='softmax', name = \"Outputlayer\")(x)\n",
    "\n",
    "model = Model(Inp, output)\n",
    "\n",
    "model.summary()"
   ]
  },
  {
   "cell_type": "code",
   "execution_count": 19,
   "metadata": {},
   "outputs": [],
   "source": [
    "model.compile(loss='categorical_crossentropy',\n",
    "              optimizer='adam',\n",
    "              metrics=['acc'])\n",
    "\n",
    "from keras.callbacks import EarlyStopping,LearningRateScheduler,ReduceLROnPlateau, TensorBoard\n",
    "callbacks = [ReduceLROnPlateau(monitor='loss'),\n",
    "            TensorBoard(log_dir=\"logs/{}\",histogram_freq=1)]"
   ]
  },
  {
   "cell_type": "code",
   "execution_count": 20,
   "metadata": {},
   "outputs": [
    {
     "name": "stdout",
     "output_type": "stream",
     "text": [
      "Benchmark Accuracy of testset = 0.9954\n"
     ]
    }
   ],
   "source": [
    "## Determine benchmark accuracy of test_set\n",
    "print \"Benchmark Accuracy of testset = %0.4f\" %(sum(lb.inverse_transform(y_test) != 50)/float(len(y_test))) # Use Label Binarizer"
   ]
  },
  {
   "cell_type": "code",
   "execution_count": null,
   "metadata": {
    "scrolled": true
   },
   "outputs": [
    {
     "name": "stdout",
     "output_type": "stream",
     "text": [
      "Train on 79603 samples, validate on 20000 samples\n",
      "Epoch 1/1000\n",
      "79603/79603 [==============================] - 4s - loss: 1.0552 - acc: 0.7262 - val_loss: 0.5001 - val_acc: 0.9446\b\b\b\b\b\b\b\b\b\b\b\b\b\b\b\b\b\b\b\b\b\b\b\b\b\b\b\b\b\b\b\b\b\b\b\b\b\b\b\b\b\b\b\b\b\b\b\b\b\b\b\n",
      "Epoch 2/1000\n",
      "79603/79603 [==============================] - 4s - loss: 0.7060 - acc: 0.7671 - val_loss: 1.6329 - val_acc: 0.1607\b\b\b\b\b\b\b\b\b\b\b\b\b\b\b\b\b\b\b\b\b\b\b\b\b\b\b\b\b\b\b\b\b\b\b\b\b\b\b\b\b\b\b\b\b\b\b\b\b\b\b\n",
      "Epoch 3/1000\n",
      "79603/79603 [==============================] - 4s - loss: 1.2977 - acc: 0.3427 - val_loss: 0.5995 - val_acc: 0.8751\b\b\b\b\b\b\b\b\b\b\b\b\b\b\b\b\b\b\b\b\b\b\b\b\b\b\b\b\b\b\b\b\b\b\b\b\b\b\b\b\b\b\b\b\b\b\b\b\b\b\b\n",
      "Epoch 4/1000\n",
      "79603/79603 [==============================] - 4s - loss: 0.6742 - acc: 0.7455 - val_loss: 1.0809 - val_acc: 0.3416\b\b\b\b\b\b\b\b\b\b\b\b\b\b\b\b\b\b\b\b\b\b\b\b\b\b\b\b\b\b\b\b\b\b\b\b\b\b\b\b\b\b\b\b\b\b\b\b\b\b\b\n",
      "Epoch 5/1000\n",
      "79603/79603 [==============================] - 4s - loss: 0.8737 - acc: 0.4844 - val_loss: 0.5028 - val_acc: 0.9180\b\b\b\b\b\b\b\b\b\b\b\b\b\b\b\b\b\b\b\b\b\b\b\b\b\b\b\b\b\b\b\b\b\b\b\b\b\b\b\b\b\b\b\b\b\b\b\b\b\b\b\n",
      "Epoch 6/1000\n",
      "79603/79603 [==============================] - 4s - loss: 0.4943 - acc: 0.8432 - val_loss: 0.9270 - val_acc: 0.5001\b\b\b\b\b\b\b\b\b\b\b\b\b\b\b\b\b\b\b\b\b\b\b\b\b\b\b\b\b\b\b\b\b\b\b\b\b\b\b\b\b\b\b\b\b\b\b\b\b\b\b\n",
      "Epoch 7/1000\n",
      "79603/79603 [==============================] - 4s - loss: 0.7836 - acc: 0.5639 - val_loss: 0.4696 - val_acc: 0.9506\b\b\b\b\b\b\b\b\b\b\b\b\b\b\b\b\b\b\b\b\b\b\b\b\b\b\b\b\b\b\b\b\b\b\b\b\b\b\b\b\b\b\b\b\b\b\b\b\b\b\b\n",
      "Epoch 8/1000\n",
      "79603/79603 [==============================] - 4s - loss: 0.4017 - acc: 0.9569 - val_loss: 0.7032 - val_acc: 0.6937\b\b\b\b\b\b\b\b\b\b\b\b\b\b\b\b\b\b\b\b\b\b\b\b\b\b\b\b\b\b\b\b\b\b\b\b\b\b\b\b\b\b\b\b\b\b\b\b\b\b\b\n",
      "Epoch 9/1000\n",
      "79603/79603 [==============================] - 4s - loss: 0.6267 - acc: 0.6933 - val_loss: 0.5595 - val_acc: 0.9000\b\b\b\b\b\b\b\b\b\b\b\b\b\b\b\b\b\b\b\b\b\b\b\b\b\b\b\b\b\b\b\b\b\b\b\b\b\b\b\b\b\b\b\b\b\b\b\b\b\b\b\n",
      "Epoch 10/1000\n",
      "79603/79603 [==============================] - 5s - loss: 0.4543 - acc: 0.9177 - val_loss: 0.5077 - val_acc: 0.9459\b\b\b\b\b\b\b\b\b\b\b\b\b\b\b\b\b\b\b\b\b\b\b\b\b\b\b\b\b\b\b\b\b\b\b\b\b\b\b\b\b\b\b\b\b\b\b\b\b\b\b\n",
      "Epoch 11/1000\n",
      "79603/79603 [==============================] - 4s - loss: 0.4512 - acc: 0.9310 - val_loss: 0.6092 - val_acc: 0.8516\b\b\b\b\b\b\b\b\b\b\b\b\b\b\b\b\b\b\b\b\b\b\b\b\b\b\b\b\b\b\b\b\b\b\b\b\b\b\b\b\b\b\b\b\b\b\b\b\b\b\b\n",
      "Epoch 12/1000\n",
      "79603/79603 [==============================] - 4s - loss: 0.5042 - acc: 0.8728 - val_loss: 0.4622 - val_acc: 0.9462\b\b\b\b\b\b\b\b\b\b\b\b\b\b\b\b\b\b\b\b\b\b\b\b\b\b\b\b\b\b\b\b\b\b\b\b\b\b\b\b\b\b\b\b\b\b\b\b\b\b\b\n",
      "Epoch 13/1000\n",
      "79603/79603 [==============================] - 4s - loss: 0.3871 - acc: 0.9540 - val_loss: 0.5518 - val_acc: 0.9325\b\b\b\b\b\b\b\b\b\b\b\b\b\b\b\b\b\b\b\b\b\b\b\b\b\b\b\b\b\b\b\b\b\b\b\b\b\b\b\b\b\b\b\b\b\b\b\b\b\b\b\n",
      "Epoch 14/1000\n",
      "79603/79603 [==============================] - 4s - loss: 0.4693 - acc: 0.9410 - val_loss: 0.4928 - val_acc: 0.9510\b\b\b\b\b\b\b\b\b\b\b\b\b\b\b\b\b\b\b\b\b\b\b\b\b\b\b\b\b\b\b\b\b\b\b\b\b\b\b\b\b\b\b\b\b\b\b\b\b\b\b\n",
      "Epoch 15/1000\n",
      "79603/79603 [==============================] - 4s - loss: 0.4026 - acc: 0.9591 - val_loss: 0.4823 - val_acc: 0.9404\b\b\b\b\b\b\b\b\b\b\b\b\b\b\b\b\b\b\b\b\b\b\b\b\b\b\b\b\b\b\b\b\b\b\b\b\b\b\b\b\b\b\b\b\b\b\b\b\b\b\b\n",
      "Epoch 16/1000\n",
      "79603/79603 [==============================] - 4s - loss: 0.4081 - acc: 0.9466 - val_loss: 0.5128 - val_acc: 0.9367\b\b\b\b\b\b\b\b\b\b\b\b\b\b\b\b\b\b\b\b\b\b\b\b\b\b\b\b\b\b\b\b\b\b\b\b\b\b\b\b\b\b\b\b\b\b\b\b\b\b\b\n",
      "Epoch 17/1000\n",
      "79603/79603 [==============================] - 4s - loss: 0.4221 - acc: 0.9458 - val_loss: 0.4605 - val_acc: 0.9563\b\b\b\b\b\b\b\b\b\b\b\b\b\b\b\b\b\b\b\b\b\b\b\b\b\b\b\b\b\b\b\b\b\b\b\b\b\b\b\b\b\b\b\b\b\b\b\b\b\b\b\n",
      "Epoch 18/1000\n",
      "79603/79603 [==============================] - 4s - loss: 0.3816 - acc: 0.9627 - val_loss: 0.4951 - val_acc: 0.9460\b\b\b\b\b\b\b\b\b\b\b\b\b\b\b\b\b\b\b\b\b\b\b\b\b\b\b\b\b\b\b\b\b\b\b\b\b\b\b\b\b\b\b\b\b\b\b\b\b\b\b\n",
      "Epoch 19/1000\n",
      "79603/79603 [==============================] - 4s - loss: 0.4121 - acc: 0.9528 - val_loss: 0.4697 - val_acc: 0.9541\b\b\b\b\b\b\b\b\b\b\b\b\b\b\b\b\b\b\b\b\b\b\b\b\b\b\b\b\b\b\b\b\b\b\b\b\b\b\b\b\b\b\b\b\b\b\b\b\b\b\b\n",
      "Epoch 20/1000\n",
      "79603/79603 [==============================] - 4s - loss: 0.3851 - acc: 0.9598 - val_loss: 0.4709 - val_acc: 0.9453\b\b\b\b\b\b\b\b\b\b\b\b\b\b\b\b\b\b\b\b\b\b\b\b\b\b\b\b\b\b\b\b\b\b\b\b\b\b\b\b\b\b\b\b\b\b\b\b\b\b\b\n",
      "Epoch 21/1000\n",
      "79603/79603 [==============================] - 4s - loss: 0.3911 - acc: 0.9518 - val_loss: 0.4769 - val_acc: 0.9423\b\b\b\b\b\b\b\b\b\b\b\b\b\b\b\b\b\b\b\b\b\b\b\b\b\b\b\b\b\b\b\b\b\b\b\b\b\b\b\b\b\b\b\b\b\b\b\b\b\b\b\n",
      "Epoch 22/1000\n",
      "79603/79603 [==============================] - 4s - loss: 0.3910 - acc: 0.9496 - val_loss: 0.4607 - val_acc: 0.9498\b\b\b\b\b\b\b\b\b\b\b\b\b\b\b\b\b\b\b\b\b\b\b\b\b\b\b\b\b\b\b\b\b\b\b\b\b\b\b\b\b\b\b\b\b\b\b\b\b\b\b\n",
      "Epoch 23/1000\n",
      "79603/79603 [==============================] - 4s - loss: 0.3799 - acc: 0.9581 - val_loss: 0.4737 - val_acc: 0.9463\b\b\b\b\b\b\b\b\b\b\b\b\b\b\b\b\b\b\b\b\b\b\b\b\b\b\b\b\b\b\b\b\b\b\b\b\b\b\b\b\b\b\b\b\b\b\b\b\b\b\b\n",
      "Epoch 24/1000\n",
      "79603/79603 [==============================] - 4s - loss: 0.3897 - acc: 0.9552 - val_loss: 0.4603 - val_acc: 0.9494\b\b\b\b\b\b\b\b\b\b\b\b\b\b\b\b\b\b\b\b\b\b\b\b\b\b\b\b\b\b\b\b\b\b\b\b\b\b\b\b\b\b\b\b\b\b\b\b\b\b\b\n",
      "Epoch 25/1000\n",
      "79603/79603 [==============================] - 4s - loss: 0.3779 - acc: 0.9580 - val_loss: 0.4665 - val_acc: 0.9477\b\b\b\b\b\b\b\b\b\b\b\b\b\b\b\b\b\b\b\b\b\b\b\b\b\b\b\b\b\b\b\b\b\b\b\b\b\b\b\b\b\b\b\b\b\b\b\b\b\b\b\n",
      "Epoch 26/1000\n",
      "79603/79603 [==============================] - 4s - loss: 0.3843 - acc: 0.9560 - val_loss: 0.4622 - val_acc: 0.9433\b\b\b\b\b\b\b\b\b\b\b\b\b\b\b\b\b\b\b\b\b\b\b\b\b\b\b\b\b\b\b\b\b\b\b\b\b\b\b\b\b\b\b\b\b\b\b\b\b\b\b\n",
      "Epoch 27/1000\n",
      "79603/79603 [==============================] - 4s - loss: 0.3789 - acc: 0.9526 - val_loss: 0.4615 - val_acc: 0.9494\b\b\b\b\b\b\b\b\b\b\b\b\b\b\b\b\b\b\b\b\b\b\b\b\b\b\b\b\b\b\b\b\b\b\b\b\b\b\b\b\b\b\b\b\b\b\b\b\b\b\b\n",
      "Epoch 28/1000\n",
      "79603/79603 [==============================] - 4s - loss: 0.3796 - acc: 0.9567 - val_loss: 0.4630 - val_acc: 0.9431\b\b\b\b\b\b\b\b\b\b\b\b\b\b\b\b\b\b\b\b\b\b\b\b\b\b\b\b\b\b\b\b\b\b\b\b\b\b\b\b\b\b\b\b\b\b\b\b\b\b\b\n",
      "Epoch 29/1000\n",
      "79603/79603 [==============================] - 4s - loss: 0.3794 - acc: 0.9514 - val_loss: 0.4594 - val_acc: 0.9462\b\b\b\b\b\b\b\b\b\b\b\b\b\b\b\b\b\b\b\b\b\b\b\b\b\b\b\b\b\b\b\b\b\b\b\b\b\b\b\b\b\b\b\b\b\b\b\b\b\b\b\n",
      "Epoch 30/1000\n",
      "79603/79603 [==============================] - 4s - loss: 0.3771 - acc: 0.9545 - val_loss: 0.4622 - val_acc: 0.9507\b\b\b\b\b\b\b\b\b\b\b\b\b\b\b\b\b\b\b\b\b\b\b\b\b\b\b\b\b\b\b\b\b\b\b\b\b\b\b\b\b\b\b\b\b\b\b\b\b\b\b\n",
      "Epoch 31/1000\n",
      "79603/79603 [==============================] - 4s - loss: 0.3788 - acc: 0.9586 - val_loss: 0.4585 - val_acc: 0.9447\b\b\b\b\b\b\b\b\b\b\b\b\b\b\b\b\b\b\b\b\b\b\b\b\b\b\b\b\b\b\b\b\b\b\b\b\b\b\b\b\b\b\b\b\b\b\b\b\b\b\b\n",
      "Epoch 32/1000\n",
      "79603/79603 [==============================] - 6s - loss: 0.3760 - acc: 0.9536 - val_loss: 0.4604 - val_acc: 0.9529\b\b\b\b\b\b\b\b\b\b\b\b\b\b\b\b\b\b\b\b\b\b\b\b\b\b\b\b\b\b\b\b\b\b\b\b\b\b\b\b\b\b\b\b\b\b\b\b\b\b\b\n",
      "Epoch 33/1000\n",
      "79603/79603 [==============================] - 4s - loss: 0.3776 - acc: 0.9605 - val_loss: 0.4582 - val_acc: 0.9539\b\b\b\b\b\b\b\b\b\b\b\b\b\b\b\b\b\b\b\b\b\b\b\b\b\b\b\b\b\b\b\b\b\b\b\b\b\b\b\b\b\b\b\b\b\b\b\b\b\b\b\n",
      "Epoch 34/1000\n",
      "79603/79603 [==============================] - 4s - loss: 0.3756 - acc: 0.9594 - val_loss: 0.4592 - val_acc: 0.9430\b\b\b\b\b\b\b\b\b\b\b\b\b\b\b\b\b\b\b\b\b\b\b\b\b\b\b\b\b\b\b\b\b\b\b\b\b\b\b\b\b\b\b\b\b\b\b\b\b\b\b\n",
      "Epoch 35/1000\n",
      "79603/79603 [==============================] - 4s - loss: 0.3766 - acc: 0.9513 - val_loss: 0.4579 - val_acc: 0.9449\b\b\b\b\b\b\b\b\b\b\b\b\b\b\b\b\b\b\b\b\b\b\b\b\b\b\b\b\b\b\b\b\b\b\b\b\b\b\b\b\b\b\b\b\b\b\b\b\b\b\b\n",
      "Epoch 36/1000\n",
      "79603/79603 [==============================] - 4s - loss: 0.3753 - acc: 0.9536 - val_loss: 0.4582 - val_acc: 0.9467\b\b\b\b\b\b\b\b\b\b\b\b\b\b\b\b\b\b\b\b\b\b\b\b\b\b\b\b\b\b\b\b\b\b\b\b\b\b\b\b\b\b\b\b\b\b\b\b\b\b\b\n",
      "Epoch 37/1000\n",
      "79603/79603 [==============================] - 4s - loss: 0.3757 - acc: 0.9540 - val_loss: 0.4576 - val_acc: 0.9480\b\b\b\b\b\b\b\b\b\b\b\b\b\b\b\b\b\b\b\b\b\b\b\b\b\b\b\b\b\b\b\b\b\b\b\b\b\b\b\b\b\b\b\b\b\b\b\b\b\b\b\n",
      "Epoch 38/1000\n",
      "79603/79603 [==============================] - 4s - loss: 0.3749 - acc: 0.9559 - val_loss: 0.4578 - val_acc: 0.9448\b\b\b\b\b\b\b\b\b\b\b\b\b\b\b\b\b\b\b\b\b\b\b\b\b\b\b\b\b\b\b\b\b\b\b\b\b\b\b\b\b\b\b\b\b\b\b\b\b\b\b\n",
      "Epoch 39/1000\n",
      "79603/79603 [==============================] - 4s - loss: 0.3752 - acc: 0.9520 - val_loss: 0.4576 - val_acc: 0.9444\b\b\b\b\b\b\b\b\b\b\b\b\b\b\b\b\b\b\b\b\b\b\b\b\b\b\b\b\b\b\b\b\b\b\b\b\b\b\b\b\b\b\b\b\b\b\b\b\b\b\b\n",
      "Epoch 40/1000\n",
      "79603/79603 [==============================] - 4s - loss: 0.3748 - acc: 0.9529 - val_loss: 0.4571 - val_acc: 0.9461\b\b\b\b\b\b\b\b\b\b\b\b\b\b\b\b\b\b\b\b\b\b\b\b\b\b\b\b\b\b\b\b\b\b\b\b\b\b\b\b\b\b\b\b\b\b\b\b\b\b\b\n",
      "Epoch 41/1000\n",
      "79603/79603 [==============================] - 5s - loss: 0.3746 - acc: 0.9549 - val_loss: 0.4569 - val_acc: 0.9520\b\b\b\b\b\b\b\b\b\b\b\b\b\b\b\b\b\b\b\b\b\b\b\b\b\b\b\b\b\b\b\b\b\b\b\b\b\b\b\b\b\b\b\b\b\b\b\b\b\b\b\n",
      "Epoch 42/1000\n",
      "79603/79603 [==============================] - 4s - loss: 0.3742 - acc: 0.9587 - val_loss: 0.4569 - val_acc: 0.9447\b\b\b\b\b\b\b\b\b\b\b\b\b\b\b\b\b\b\b\b\b\b\b\b\b\b\b\b\b\b\b\b\b\b\b\b\b\b\b\b\b\b\b\b\b\b\b\b\b\b\b\n",
      "Epoch 43/1000\n",
      "79603/79603 [==============================] - 4s - loss: 0.3742 - acc: 0.9526 - val_loss: 0.4567 - val_acc: 0.9475\b\b\b\b\b\b\b\b\b\b\b\b\b\b\b\b\b\b\b\b\b\b\b\b\b\b\b\b\b\b\b\b\b\b\b\b\b\b\b\b\b\b\b\b\b\b\b\b\b\b\b\n",
      "Epoch 44/1000\n",
      "79603/79603 [==============================] - 4s - loss: 0.3740 - acc: 0.9568 - val_loss: 0.4562 - val_acc: 0.9493\b\b\b\b\b\b\b\b\b\b\b\b\b\b\b\b\b\b\b\b\b\b\b\b\b\b\b\b\b\b\b\b\b\b\b\b\b\b\b\b\b\b\b\b\b\b\b\b\b\b\b\n",
      "Epoch 45/1000\n",
      "79603/79603 [==============================] - 4s - loss: 0.3736 - acc: 0.9572 - val_loss: 0.4560 - val_acc: 0.9451\b\b\b\b\b\b\b\b\b\b\b\b\b\b\b\b\b\b\b\b\b\b\b\b\b\b\b\b\b\b\b\b\b\b\b\b\b\b\b\b\b\b\b\b\b\b\b\b\b\b\b\n",
      "Epoch 46/1000\n",
      "79603/79603 [==============================] - 4s - loss: 0.3735 - acc: 0.9532 - val_loss: 0.4559 - val_acc: 0.9445\b\b\b\b\b\b\b\b\b\b\b\b\b\b\b\b\b\b\b\b\b\b\b\b\b\b\b\b\b\b\b\b\b\b\b\b\b\b\b\b\b\b\b\b\b\b\b\b\b\b\b\n",
      "Epoch 47/1000\n",
      "79603/79603 [==============================] - 4s - loss: 0.3734 - acc: 0.9535 - val_loss: 0.4559 - val_acc: 0.9461\b\b\b\b\b\b\b\b\b\b\b\b\b\b\b\b\b\b\b\b\b\b\b\b\b\b\b\b\b\b\b\b\b\b\b\b\b\b\b\b\b\b\b\b\b\b\b\b\b\b\b\n",
      "Epoch 48/1000\n",
      "79603/79603 [==============================] - 4s - loss: 0.3731 - acc: 0.9534 - val_loss: 0.4558 - val_acc: 0.9455\b\b\b\b\b\b\b\b\b\b\b\b\b\b\b\b\b\b\b\b\b\b\b\b\b\b\b\b\b\b\b\b\b\b\b\b\b\b\b\b\b\b\b\b\b\b\b\b\b\b\b\n",
      "Epoch 49/1000\n",
      "79603/79603 [==============================] - 4s - loss: 0.3729 - acc: 0.9545 - val_loss: 0.4554 - val_acc: 0.9492\b\b\b\b\b\b\b\b\b\b\b\b\b\b\b\b\b\b\b\b\b\b\b\b\b\b\b\b\b\b\b\b\b\b\b\b\b\b\b\b\b\b\b\b\b\b\b\b\b\b\b\n",
      "Epoch 50/1000\n",
      "79603/79603 [==============================] - 4s - loss: 0.3727 - acc: 0.9554 - val_loss: 0.4551 - val_acc: 0.9469\b\b\b\b\b\b\b\b\b\b\b\b\b\b\b\b\b\b\b\b\b\b\b\b\b\b\b\b\b\b\b\b\b\b\b\b\b\b\b\b\b\b\b\b\b\b\b\b\b\b\b\n",
      "Epoch 51/1000\n",
      "79603/79603 [==============================] - 4s - loss: 0.3726 - acc: 0.9552 - val_loss: 0.4549 - val_acc: 0.9488\b\b\b\b\b\b\b\b\b\b\b\b\b\b\b\b\b\b\b\b\b\b\b\b\b\b\b\b\b\b\b\b\b\b\b\b\b\b\b\b\b\b\b\b\b\b\b\b\b\b\b\n",
      "Epoch 52/1000\n",
      "79603/79603 [==============================] - 4s - loss: 0.3723 - acc: 0.9578 - val_loss: 0.4549 - val_acc: 0.9502\b\b\b\b\b\b\b\b\b\b\b\b\b\b\b\b\b\b\b\b\b\b\b\b\b\b\b\b\b\b\b\b\b\b\b\b\b\b\b\b\b\b\b\b\b\b\b\b\b\b\b\n",
      "Epoch 53/1000\n",
      "79603/79603 [==============================] - 4s - loss: 0.3722 - acc: 0.9590 - val_loss: 0.4548 - val_acc: 0.9459\b\b\b\b\b\b\b\b\b\b\b\b\b\b\b\b\b\b\b\b\b\b\b\b\b\b\b\b\b\b\b\b\b\b\b\b\b\b\b\b\b\b\b\b\b\b\b\b\b\b\b\n",
      "Epoch 54/1000\n",
      "79603/79603 [==============================] - 4s - loss: 0.3721 - acc: 0.9543 - val_loss: 0.4546 - val_acc: 0.9506\b\b\b\b\b\b\b\b\b\b\b\b\b\b\b\b\b\b\b\b\b\b\b\b\b\b\b\b\b\b\b\b\b\b\b\b\b\b\b\b\b\b\b\b\b\b\b\b\b\b\b\n",
      "Epoch 55/1000\n",
      "79603/79603 [==============================] - 4s - loss: 0.3718 - acc: 0.9590 - val_loss: 0.4542 - val_acc: 0.9500\b\b\b\b\b\b\b\b\b\b\b\b\b\b\b\b\b\b\b\b\b\b\b\b\b\b\b\b\b\b\b\b\b\b\b\b\b\b\b\b\b\b\b\b\b\b\b\b\b\b\b\n",
      "Epoch 56/1000\n",
      "79603/79603 [==============================] - 4s - loss: 0.3716 - acc: 0.9573 - val_loss: 0.4540 - val_acc: 0.9468\b\b\b\b\b\b\b\b\b\b\b\b\b\b\b\b\b\b\b\b\b\b\b\b\b\b\b\b\b\b\b\b\b\b\b\b\b\b\b\b\b\b\b\b\b\b\b\b\b\b\b\n",
      "Epoch 57/1000\n",
      "79603/79603 [==============================] - 4s - loss: 0.3715 - acc: 0.9544 - val_loss: 0.4538 - val_acc: 0.9503\b\b\b\b\b\b\b\b\b\b\b\b\b\b\b\b\b\b\b\b\b\b\b\b\b\b\b\b\b\b\b\b\b\b\b\b\b\b\b\b\b\b\b\b\b\b\b\b\b\b\b\n",
      "Epoch 58/1000\n",
      "79603/79603 [==============================] - 4s - loss: 0.3714 - acc: 0.9577 - val_loss: 0.4538 - val_acc: 0.9479\b\b\b\b\b\b\b\b\b\b\b\b\b\b\b\b\b\b\b\b\b\b\b\b\b\b\b\b\b\b\b\b\b\b\b\b\b\b\b\b\b\b\b\b\b\b\b\b\b\b\b\n",
      "Epoch 59/1000\n",
      "79603/79603 [==============================] - 4s - loss: 0.3711 - acc: 0.9574 - val_loss: 0.4537 - val_acc: 0.9541\b\b\b\b\b\b\b\b\b\b\b\b\b\b\b\b\b\b\b\b\b\b\b\b\b\b\b\b\b\b\b\b\b\b\b\b\b\b\b\b\b\b\b\b\b\b\b\b\b\b\b\n",
      "Epoch 60/1000\n",
      "79603/79603 [==============================] - 4s - loss: 0.3709 - acc: 0.9613 - val_loss: 0.4536 - val_acc: 0.9548\b\b\b\b\b\b\b\b\b\b\b\b\b\b\b\b\b\b\b\b\b\b\b\b\b\b\b\b\b\b\b\b\b\b\b\b\b\b\b\b\b\b\b\b\b\b\b\b\b\b\b\n",
      "Epoch 61/1000\n",
      "79603/79603 [==============================] - 4s - loss: 0.3708 - acc: 0.9612 - val_loss: 0.4531 - val_acc: 0.9496\b\b\b\b\b\b\b\b\b\b\b\b\b\b\b\b\b\b\b\b\b\b\b\b\b\b\b\b\b\b\b\b\b\b\b\b\b\b\b\b\b\b\b\b\b\b\b\b\b\b\b\n",
      "Epoch 62/1000\n",
      "79603/79603 [==============================] - 4s - loss: 0.3706 - acc: 0.9571 - val_loss: 0.4528 - val_acc: 0.9500\b\b\b\b\b\b\b\b\b\b\b\b\b\b\b\b\b\b\b\b\b\b\b\b\b\b\b\b\b\b\b\b\b\b\b\b\b\b\b\b\b\b\b\b\b\b\b\b\b\b\b\n",
      "Epoch 63/1000\n",
      "79603/79603 [==============================] - 4s - loss: 0.3704 - acc: 0.9558 - val_loss: 0.4527 - val_acc: 0.9445\b\b\b\b\b\b\b\b\b\b\b\b\b\b\b\b\b\b\b\b\b\b\b\b\b\b\b\b\b\b\b\b\b\b\b\b\b\b\b\b\b\b\b\b\b\b\b\b\b\b\b\n",
      "Epoch 64/1000\n",
      "79603/79603 [==============================] - 5s - loss: 0.3703 - acc: 0.9524 - val_loss: 0.4528 - val_acc: 0.9436\b\b\b\b\b\b\b\b\b\b\b\b\b\b\b\b\b\b\b\b\b\b\b\b\b\b\b\b\b\b\b\b\b\b\b\b\b\b\b\b\b\b\b\b\b\b\b\b\b\b\b\n",
      "Epoch 65/1000\n",
      "79603/79603 [==============================] - 4s - loss: 0.3702 - acc: 0.9529 - val_loss: 0.4528 - val_acc: 0.9519\b\b\b\b\b\b\b\b\b\b\b\b\b\b\b\b\b\b\b\b\b\b\b\b\b\b\b\b\b\b\b\b\b\b\b\b\b\b\b\b\b\b\b\b\b\b\b\b\b\b\b\n",
      "Epoch 66/1000\n",
      "79603/79603 [==============================] - 4s - loss: 0.3699 - acc: 0.9594 - val_loss: 0.4526 - val_acc: 0.9527\b\b\b\b\b\b\b\b\b\b\b\b\b\b\b\b\b\b\b\b\b\b\b\b\b\b\b\b\b\b\b\b\b\b\b\b\b\b\b\b\b\b\b\b\b\b\b\b\b\b\b\n",
      "Epoch 67/1000\n",
      "79603/79603 [==============================] - 3s - loss: 0.3697 - acc: 0.9606 - val_loss: 0.4522 - val_acc: 0.9485\b\b\b\b\b\b\b\b\b\b\b\b\b\b\b\b\b\b\b\b\b\b\b\b\b\b\b\b\b\b\b\b\b\b\b\b\b\b\b\b\b\b\b\b\b\b\b\b\b\b\b\n",
      "Epoch 68/1000\n",
      "79603/79603 [==============================] - 5s - loss: 0.3695 - acc: 0.9575 - val_loss: 0.4517 - val_acc: 0.9495\b\b\b\b\b\b\b\b\b\b\b\b\b\b\b\b\b\b\b\b\b\b\b\b\b\b\b\b\b\b\b\b\b\b\b\b\b\b\b\b\b\b\b\b\b\b\b\b\b\b\b\n",
      "Epoch 69/1000\n",
      "79603/79603 [==============================] - 4s - loss: 0.3693 - acc: 0.9569 - val_loss: 0.4516 - val_acc: 0.9541\b\b\b\b\b\b\b\b\b\b\b\b\b\b\b\b\b\b\b\b\b\b\b\b\b\b\b\b\b\b\b\b\b\b\b\b\b\b\b\b\b\b\b\b\b\b\b\b\b\b\b\n",
      "Epoch 70/1000\n",
      "79603/79603 [==============================] - 4s - loss: 0.3691 - acc: 0.9620 - val_loss: 0.4516 - val_acc: 0.9508\b\b\b\b\b\b\b\b\b\b\b\b\b\b\b\b\b\b\b\b\b\b\b\b\b\b\b\b\b\b\b\b\b\b\b\b\b\b\b\b\b\b\b\b\b\b\b\b\b\b\b\n",
      "Epoch 71/1000\n",
      "79603/79603 [==============================] - 4s - loss: 0.3689 - acc: 0.9595 - val_loss: 0.4515 - val_acc: 0.9490\b\b\b\b\b\b\b\b\b\b\b\b\b\b\b\b\b\b\b\b\b\b\b\b\b\b\b\b\b\b\b\b\b\b\b\b\b\b\b\b\b\b\b\b\b\b\b\b\b\b\b\n",
      "Epoch 72/1000\n",
      "79603/79603 [==============================] - 4s - loss: 0.3687 - acc: 0.9575 - val_loss: 0.4513 - val_acc: 0.9454\b\b\b\b\b\b\b\b\b\b\b\b\b\b\b\b\b\b\b\b\b\b\b\b\b\b\b\b\b\b\b\b\b\b\b\b\b\b\b\b\b\b\b\b\b\b\b\b\b\b\b\n",
      "Epoch 73/1000\n",
      "79603/79603 [==============================] - 4s - loss: 0.3685 - acc: 0.9538 - val_loss: 0.4511 - val_acc: 0.9483\b\b\b\b\b\b\b\b\b\b\b\b\b\b\b\b\b\b\b\b\b\b\b\b\b\b\b\b\b\b\b\b\b\b\b\b\b\b\b\b\b\b\b\b\b\b\b\b\b\b\b\n",
      "Epoch 74/1000\n",
      "79603/79603 [==============================] - 4s - loss: 0.3683 - acc: 0.9555 - val_loss: 0.4509 - val_acc: 0.9502\b\b\b\b\b\b\b\b\b\b\b\b\b\b\b\b\b\b\b\b\b\b\b\b\b\b\b\b\b\b\b\b\b\b\b\b\b\b\b\b\b\b\b\b\b\b\b\b\b\b\b\n",
      "Epoch 75/1000\n",
      "79603/79603 [==============================] - 4s - loss: 0.3681 - acc: 0.9579 - val_loss: 0.4505 - val_acc: 0.9524\b\b\b\b\b\b\b\b\b\b\b\b\b\b\b\b\b\b\b\b\b\b\b\b\b\b\b\b\b\b\b\b\b\b\b\b\b\b\b\b\b\b\b\b\b\b\b\b\b\b\b\n",
      "Epoch 76/1000\n",
      "79603/79603 [==============================] - 4s - loss: 0.3679 - acc: 0.9583 - val_loss: 0.4502 - val_acc: 0.9546\b\b\b\b\b\b\b\b\b\b\b\b\b\b\b\b\b\b\b\b\b\b\b\b\b\b\b\b\b\b\b\b\b\b\b\b\b\b\b\b\b\b\b\b\b\b\b\b\b\b\b\n",
      "Epoch 77/1000\n",
      "79603/79603 [==============================] - 4s - loss: 0.3677 - acc: 0.9618 - val_loss: 0.4501 - val_acc: 0.9586\b\b\b\b\b\b\b\b\b\b\b\b\b\b\b\b\b\b\b\b\b\b\b\b\b\b\b\b\b\b\b\b\b\b\b\b\b\b\b\b\b\b\b\b\b\b\b\b\b\b\b\n",
      "Epoch 78/1000\n",
      "79603/79603 [==============================] - 4s - loss: 0.3675 - acc: 0.9649 - val_loss: 0.4500 - val_acc: 0.9555\b\b\b\b\b\b\b\b\b\b\b\b\b\b\b\b\b\b\b\b\b\b\b\b\b\b\b\b\b\b\b\b\b\b\b\b\b\b\b\b\b\b\b\b\b\b\b\b\b\b\b\n",
      "Epoch 79/1000\n",
      "79603/79603 [==============================] - 4s - loss: 0.3674 - acc: 0.9601 - val_loss: 0.4499 - val_acc: 0.9474\b\b\b\b\b\b\b\b\b\b\b\b\b\b\b\b\b\b\b\b\b\b\b\b\b\b\b\b\b\b\b\b\b\b\b\b\b\b\b\b\b\b\b\b\b\b\b\b\b\b\b\n",
      "Epoch 80/1000\n",
      "79603/79603 [==============================] - 4s - loss: 0.3671 - acc: 0.9565 - val_loss: 0.4498 - val_acc: 0.9432\b\b\b\b\b\b\b\b\b\b\b\b\b\b\b\b\b\b\b\b\b\b\b\b\b\b\b\b\b\b\b\b\b\b\b\b\b\b\b\b\b\b\b\b\b\b\b\b\b\b\b\n",
      "Epoch 81/1000\n",
      "79603/79603 [==============================] - 4s - loss: 0.3670 - acc: 0.9532 - val_loss: 0.4495 - val_acc: 0.9469\b\b\b\b\b\b\b\b\b\b\b\b\b\b\b\b\b\b\b\b\b\b\b\b\b\b\b\b\b\b\b\b\b\b\b\b\b\b\b\b\b\b\b\b\b\b\b\b\b\b\b\n",
      "Epoch 82/1000\n",
      "79603/79603 [==============================] - 4s - loss: 0.3667 - acc: 0.9548 - val_loss: 0.4491 - val_acc: 0.9534\b\b\b\b\b\b\b\b\b\b\b\b\b\b\b\b\b\b\b\b\b\b\b\b\b\b\b\b\b\b\b\b\b\b\b\b\b\b\b\b\b\b\b\b\b\b\b\b\b\b\b\n",
      "Epoch 83/1000\n",
      "79603/79603 [==============================] - 4s - loss: 0.3665 - acc: 0.9604 - val_loss: 0.4489 - val_acc: 0.9516\b\b\b\b\b\b\b\b\b\b\b\b\b\b\b\b\b\b\b\b\b\b\b\b\b\b\b\b\b\b\b\b\b\b\b\b\b\b\b\b\b\b\b\b\b\b\b\b\b\b\b\n",
      "Epoch 84/1000\n",
      "79603/79603 [==============================] - 4s - loss: 0.3663 - acc: 0.9593 - val_loss: 0.4488 - val_acc: 0.9512\b\b\b\b\b\b\b\b\b\b\b\b\b\b\b\b\b\b\b\b\b\b\b\b\b\b\b\b\b\b\b\b\b\b\b\b\b\b\b\b\b\b\b\b\b\b\b\b\b\b\b\n",
      "Epoch 85/1000\n",
      "79603/79603 [==============================] - 4s - loss: 0.3661 - acc: 0.9580 - val_loss: 0.4488 - val_acc: 0.9450\b\b\b\b\b\b\b\b\b\b\b\b\b\b\b\b\b\b\b\b\b\b\b\b\b\b\b\b\b\b\b\b\b\b\b\b\b\b\b\b\b\b\b\b\b\b\b\b\b\b\b\n",
      "Epoch 86/1000\n",
      "79603/79603 [==============================] - 4s - loss: 0.3659 - acc: 0.9532 - val_loss: 0.4487 - val_acc: 0.9391\b\b\b\b\b\b\b\b\b\b\b\b\b\b\b\b\b\b\b\b\b\b\b\b\b\b\b\b\b\b\b\b\b\b\b\b\b\b\b\b\b\b\b\b\b\b\b\b\b\b\b\n",
      "Epoch 87/1000\n",
      "79603/79603 [==============================] - 4s - loss: 0.3658 - acc: 0.9480 - val_loss: 0.4485 - val_acc: 0.9454\b\b\b\b\b\b\b\b\b\b\b\b\b\b\b\b\b\b\b\b\b\b\b\b\b\b\b\b\b\b\b\b\b\b\b\b\b\b\b\b\b\b\b\b\b\b\b\b\b\b\b\n",
      "Epoch 88/1000\n",
      "79603/79603 [==============================] - 4s - loss: 0.3656 - acc: 0.9548 - val_loss: 0.4482 - val_acc: 0.9479\b\b\b\b\b\b\b\b\b\b\b\b\b\b\b\b\b\b\b\b\b\b\b\b\b\b\b\b\b\b\b\b\b\b\b\b\b\b\b\b\b\b\b\b\b\b\b\b\b\b\b\n",
      "Epoch 89/1000\n",
      "79603/79603 [==============================] - 4s - loss: 0.3654 - acc: 0.9558 - val_loss: 0.4479 - val_acc: 0.9477\b\b\b\b\b\b\b\b\b\b\b\b\b\b\b\b\b\b\b\b\b\b\b\b\b\b\b\b\b\b\b\b\b\b\b\b\b\b\b\b\b\b\b\b\b\b\b\b\b\b\b\n",
      "Epoch 90/1000\n",
      "79603/79603 [==============================] - 4s - loss: 0.3652 - acc: 0.9570 - val_loss: 0.4475 - val_acc: 0.9532\b\b\b\b\b\b\b\b\b\b\b\b\b\b\b\b\b\b\b\b\b\b\b\b\b\b\b\b\b\b\b\b\b\b\b\b\b\b\b\b\b\b\b\b\b\b\b\b\b\b\b\n",
      "Epoch 91/1000\n",
      "79603/79603 [==============================] - 4s - loss: 0.3649 - acc: 0.9604 - val_loss: 0.4473 - val_acc: 0.9531\b\b\b\b\b\b\b\b\b\b\b\b\b\b\b\b\b\b\b\b\b\b\b\b\b\b\b\b\b\b\b\b\b\b\b\b\b\b\b\b\b\b\b\b\b\b\b\b\b\b\b\n",
      "Epoch 92/1000\n",
      "79603/79603 [==============================] - 4s - loss: 0.3648 - acc: 0.9597 - val_loss: 0.4471 - val_acc: 0.9504\b\b\b\b\b\b\b\b\b\b\b\b\b\b\b\b\b\b\b\b\b\b\b\b\b\b\b\b\b\b\b\b\b\b\b\b\b\b\b\b\b\b\b\b\b\b\b\b\b\b\b\n",
      "Epoch 93/1000\n",
      "79603/79603 [==============================] - 4s - loss: 0.3647 - acc: 0.9564 - val_loss: 0.4468 - val_acc: 0.9501\b\b\b\b\b\b\b\b\b\b\b\b\b\b\b\b\b\b\b\b\b\b\b\b\b\b\b\b\b\b\b\b\b\b\b\b\b\b\b\b\b\b\b\b\b\b\b\b\b\b\b\n",
      "Epoch 94/1000\n",
      "79603/79603 [==============================] - 4s - loss: 0.3644 - acc: 0.9568 - val_loss: 0.4467 - val_acc: 0.9502\b\b\b\b\b\b\b\b\b\b\b\b\b\b\b\b\b\b\b\b\b\b\b\b\b\b\b\b\b\b\b\b\b\b\b\b\b\b\b\b\b\b\b\b\b\b\b\b\b\b\b\n",
      "Epoch 95/1000\n",
      "79603/79603 [==============================] - 4s - loss: 0.3642 - acc: 0.9574 - val_loss: 0.4468 - val_acc: 0.9475\b\b\b\b\b\b\b\b\b\b\b\b\b\b\b\b\b\b\b\b\b\b\b\b\b\b\b\b\b\b\b\b\b\b\b\b\b\b\b\b\b\b\b\b\b\b\b\b\b\b\b\n",
      "Epoch 96/1000\n",
      "79603/79603 [==============================] - 4s - loss: 0.3641 - acc: 0.9563 - val_loss: 0.4466 - val_acc: 0.9492\b\b\b\b\b\b\b\b\b\b\b\b\b\b\b\b\b\b\b\b\b\b\b\b\b\b\b\b\b\b\b\b\b\b\b\b\b\b\b\b\b\b\b\b\b\b\b\b\b\b\b\n",
      "Epoch 97/1000\n",
      "79603/79603 [==============================] - 4s - loss: 0.3638 - acc: 0.9582 - val_loss: 0.4466 - val_acc: 0.9492\b\b\b\b\b\b\b\b\b\b\b\b\b\b\b\b\b\b\b\b\b\b\b\b\b\b\b\b\b\b\b\b\b\b\b\b\b\b\b\b\b\b\b\b\b\b\b\b\b\b\b\n",
      "Epoch 98/1000\n",
      "79603/79603 [==============================] - 4s - loss: 0.3637 - acc: 0.9588 - val_loss: 0.4464 - val_acc: 0.9498\b\b\b\b\b\b\b\b\b\b\b\b\b\b\b\b\b\b\b\b\b\b\b\b\b\b\b\b\b\b\b\b\b\b\b\b\b\b\b\b\b\b\b\b\b\b\b\b\b\b\b\n",
      "Epoch 99/1000\n",
      "79603/79603 [==============================] - 4s - loss: 0.3635 - acc: 0.9571 - val_loss: 0.4461 - val_acc: 0.9498\b\b\b\b\b\b\b\b\b\b\b\b\b\b\b\b\b\b\b\b\b\b\b\b\b\b\b\b\b\b\b\b\b\b\b\b\b\b\b\b\b\b\b\b\b\b\b\b\b\b\b\n",
      "Epoch 100/1000\n",
      "79603/79603 [==============================] - 4s - loss: 0.3633 - acc: 0.9583 - val_loss: 0.4457 - val_acc: 0.9546\b\b\b\b\b\b\b\b\b\b\b\b\b\b\b\b\b\b\b\b\b\b\b\b\b\b\b\b\b\b\b\b\b\b\b\b\b\b\b\b\b\b\b\b\b\b\b\b\b\b\b\n",
      "Epoch 101/1000\n",
      "79603/79603 [==============================] - 4s - loss: 0.3630 - acc: 0.9616 - val_loss: 0.4454 - val_acc: 0.9543\b\b\b\b\b\b\b\b\b\b\b\b\b\b\b\b\b\b\b\b\b\b\b\b\b\b\b\b\b\b\b\b\b\b\b\b\b\b\b\b\b\b\b\b\b\b\b\b\b\b\b\n",
      "Epoch 102/1000\n",
      "79603/79603 [==============================] - 4s - loss: 0.3628 - acc: 0.9618 - val_loss: 0.4451 - val_acc: 0.9576\b\b\b\b\b\b\b\b\b\b\b\b\b\b\b\b\b\b\b\b\b\b\b\b\b\b\b\b\b\b\b\b\b\b\b\b\b\b\b\b\b\b\b\b\b\b\b\b\b\b\b\n",
      "Epoch 103/1000\n",
      "79603/79603 [==============================] - 4s - loss: 0.3625 - acc: 0.9636 - val_loss: 0.4450 - val_acc: 0.9519\b\b\b\b\b\b\b\b\b\b\b\b\b\b\b\b\b\b\b\b\b\b\b\b\b\b\b\b\b\b\b\b\b\b\b\b\b\b\b\b\b\b\b\b\b\b\b\b\b\b\b\n",
      "Epoch 104/1000\n",
      "79603/79603 [==============================] - 4s - loss: 0.3624 - acc: 0.9596 - val_loss: 0.4449 - val_acc: 0.9500\b\b\b\b\b\b\b\b\b\b\b\b\b\b\b\b\b\b\b\b\b\b\b\b\b\b\b\b\b\b\b\b\b\b\b\b\b\b\b\b\b\b\b\b\b\b\b\b\b\b\b\n",
      "Epoch 105/1000\n",
      "79603/79603 [==============================] - 4s - loss: 0.3623 - acc: 0.9581 - val_loss: 0.4448 - val_acc: 0.9498\b\b\b\b\b\b\b\b\b\b\b\b\b\b\b\b\b\b\b\b\b\b\b\b\b\b\b\b\b\b\b\b\b\b\b\b\b\b\b\b\b\b\b\b\b\b\b\b\b\b\b\n",
      "Epoch 106/1000\n",
      "79603/79603 [==============================] - 4s - loss: 0.3619 - acc: 0.9588 - val_loss: 0.4447 - val_acc: 0.9476\b\b\b\b\b\b\b\b\b\b\b\b\b\b\b\b\b\b\b\b\b\b\b\b\b\b\b\b\b\b\b\b\b\b\b\b\b\b\b\b\b\b\b\b\b\b\b\b\b\b\b\n",
      "Epoch 107/1000\n",
      "79603/79603 [==============================] - 4s - loss: 0.3619 - acc: 0.9555 - val_loss: 0.4445 - val_acc: 0.9472\b\b\b\b\b\b\b\b\b\b\b\b\b\b\b\b\b\b\b\b\b\b\b\b\b\b\b\b\b\b\b\b\b\b\b\b\b\b\b\b\b\b\b\b\b\b\b\b\b\b\b\n",
      "Epoch 108/1000\n",
      "79603/79603 [==============================] - 4s - loss: 0.3617 - acc: 0.9571 - val_loss: 0.4441 - val_acc: 0.9514\b\b\b\b\b\b\b\b\b\b\b\b\b\b\b\b\b\b\b\b\b\b\b\b\b\b\b\b\b\b\b\b\b\b\b\b\b\b\b\b\b\b\b\b\b\b\b\b\b\b\b\n",
      "Epoch 109/1000\n",
      "79603/79603 [==============================] - 4s - loss: 0.3615 - acc: 0.9578 - val_loss: 0.4437 - val_acc: 0.9540\b\b\b\b\b\b\b\b\b\b\b\b\b\b\b\b\b\b\b\b\b\b\b\b\b\b\b\b\b\b\b\b\b\b\b\b\b\b\b\b\b\b\b\b\b\b\b\b\b\b\b\n",
      "Epoch 110/1000\n",
      "79603/79603 [==============================] - 4s - loss: 0.3612 - acc: 0.9595 - val_loss: 0.4435 - val_acc: 0.9538\b\b\b\b\b\b\b\b\b\b\b\b\b\b\b\b\b\b\b\b\b\b\b\b\b\b\b\b\b\b\b\b\b\b\b\b\b\b\b\b\b\b\b\b\b\b\b\b\b\b\b\n",
      "Epoch 111/1000\n",
      "79603/79603 [==============================] - 4s - loss: 0.3609 - acc: 0.9605 - val_loss: 0.4434 - val_acc: 0.9531\b\b\b\b\b\b\b\b\b\b\b\b\b\b\b\b\b\b\b\b\b\b\b\b\b\b\b\b\b\b\b\b\b\b\b\b\b\b\b\b\b\b\b\b\b\b\b\b\b\b\b\n",
      "Epoch 112/1000\n",
      "79603/79603 [==============================] - 4s - loss: 0.3608 - acc: 0.9615 - val_loss: 0.4433 - val_acc: 0.9586\b\b\b\b\b\b\b\b\b\b\b\b\b\b\b\b\b\b\b\b\b\b\b\b\b\b\b\b\b\b\b\b\b\b\b\b\b\b\b\b\b\b\b\b\b\b\b\b\b\b\b\n",
      "Epoch 113/1000\n",
      "79603/79603 [==============================] - 4s - loss: 0.3605 - acc: 0.9650 - val_loss: 0.4431 - val_acc: 0.9497\b\b\b\b\b\b\b\b\b\b\b\b\b\b\b\b\b\b\b\b\b\b\b\b\b\b\b\b\b\b\b\b\b\b\b\b\b\b\b\b\b\b\b\b\b\b\b\b\b\b\b\n",
      "Epoch 114/1000\n",
      "79603/79603 [==============================] - 4s - loss: 0.3603 - acc: 0.9577 - val_loss: 0.4429 - val_acc: 0.9478\b\b\b\b\b\b\b\b\b\b\b\b\b\b\b\b\b\b\b\b\b\b\b\b\b\b\b\b\b\b\b\b\b\b\b\b\b\b\b\b\b\b\b\b\b\b\b\b\b\b\b\n",
      "Epoch 115/1000\n",
      "79603/79603 [==============================] - 3s - loss: 0.3602 - acc: 0.9547 - val_loss: 0.4425 - val_acc: 0.9499\b\b\b\b\b\b\b\b\b\b\b\b\b\b\b\b\b\b\b\b\b\b\b\b\b\b\b\b\b\b\b\b\b\b\b\b\b\b\b\b\b\b\b\b\b\b\b\b\b\b\b\n",
      "Epoch 116/1000\n",
      "79603/79603 [==============================] - 4s - loss: 0.3599 - acc: 0.9578 - val_loss: 0.4422 - val_acc: 0.9533\b\b\b\b\b\b\b\b\b\b\b\b\b\b\b\b\b\b\b\b\b\b\b\b\b\b\b\b\b\b\b\b\b\b\b\b\b\b\b\b\b\b\b\b\b\b\b\b\b\b\b\n",
      "Epoch 117/1000\n",
      "79603/79603 [==============================] - 4s - loss: 0.3596 - acc: 0.9598 - val_loss: 0.4422 - val_acc: 0.9484\b\b\b\b\b\b\b\b\b\b\b\b\b\b\b\b\b\b\b\b\b\b\b\b\b\b\b\b\b\b\b\b\b\b\b\b\b\b\b\b\b\b\b\b\b\b\b\b\b\b\b\n",
      "Epoch 118/1000\n",
      "79603/79603 [==============================] - 4s - loss: 0.3595 - acc: 0.9581 - val_loss: 0.4421 - val_acc: 0.9546\b\b\b\b\b\b\b\b\b\b\b\b\b\b\b\b\b\b\b\b\b\b\b\b\b\b\b\b\b\b\b\b\b\b\b\b\b\b\b\b\b\b\b\b\b\b\b\b\b\b\b\n",
      "Epoch 119/1000\n",
      "79603/79603 [==============================] - 4s - loss: 0.3593 - acc: 0.9633 - val_loss: 0.4420 - val_acc: 0.9529\b\b\b\b\b\b\b\b\b\b\b\b\b\b\b\b\b\b\b\b\b\b\b\b\b\b\b\b\b\b\b\b\b\b\b\b\b\b\b\b\b\b\b\b\b\b\b\b\b\b\b\n",
      "Epoch 120/1000\n",
      "79603/79603 [==============================] - 4s - loss: 0.3590 - acc: 0.9619 - val_loss: 0.4417 - val_acc: 0.9507\b\b\b\b\b\b\b\b\b\b\b\b\b\b\b\b\b\b\b\b\b\b\b\b\b\b\b\b\b\b\b\b\b\b\b\b\b\b\b\b\b\b\b\b\b\b\b\b\b\b\b\n",
      "Epoch 121/1000\n",
      "79603/79603 [==============================] - 4s - loss: 0.3588 - acc: 0.9584 - val_loss: 0.4412 - val_acc: 0.9500\b\b\b\b\b\b\b\b\b\b\b\b\b\b\b\b\b\b\b\b\b\b\b\b\b\b\b\b\b\b\b\b\b\b\b\b\b\b\b\b\b\b\b\b\b\b\b\b\b\b\b\n",
      "Epoch 122/1000\n",
      "79603/79603 [==============================] - 4s - loss: 0.3587 - acc: 0.9572 - val_loss: 0.4409 - val_acc: 0.9495\b\b\b\b\b\b\b\b\b\b\b\b\b\b\b\b\b\b\b\b\b\b\b\b\b\b\b\b\b\b\b\b\b\b\b\b\b\b\b\b\b\b\b\b\b\b\b\b\b\b\b\n",
      "Epoch 123/1000\n",
      "79603/79603 [==============================] - 4s - loss: 0.3584 - acc: 0.9554 - val_loss: 0.4408 - val_acc: 0.9464\b\b\b\b\b\b\b\b\b\b\b\b\b\b\b\b\b\b\b\b\b\b\b\b\b\b\b\b\b\b\b\b\b\b\b\b\b\b\b\b\b\b\b\b\b\b\b\b\b\b\b\n",
      "Epoch 124/1000\n",
      "79603/79603 [==============================] - 4s - loss: 0.3583 - acc: 0.9537 - val_loss: 0.4408 - val_acc: 0.9447\b\b\b\b\b\b\b\b\b\b\b\b\b\b\b\b\b\b\b\b\b\b\b\b\b\b\b\b\b\b\b\b\b\b\b\b\b\b\b\b\b\b\b\b\b\b\b\b\b\b\b\n",
      "Epoch 125/1000\n",
      "79603/79603 [==============================] - 4s - loss: 0.3581 - acc: 0.9534 - val_loss: 0.4404 - val_acc: 0.9465\b\b\b\b\b\b\b\b\b\b\b\b\b\b\b\b\b\b\b\b\b\b\b\b\b\b\b\b\b\b\b\b\b\b\b\b\b\b\b\b\b\b\b\b\b\b\b\b\b\b\b\n",
      "Epoch 126/1000\n",
      "60000/79603 [=====================>........] - ETA: 0s - loss: 0.3573 - acc: 0.9561"
     ]
    }
   ],
   "source": [
    "history = model.fit(X_train, y_train,\n",
    "                    batch_size=batch_size,\n",
    "                    epochs=training_epochs,\n",
    "                    callbacks = callbacks,\n",
    "                    verbose=1, # This is for what we want it to display out as it trains \n",
    "                    validation_data=(X_test, y_test))"
   ]
  },
  {
   "cell_type": "code",
   "execution_count": 11,
   "metadata": {
    "collapsed": true
   },
   "outputs": [],
   "source": [
    "def plot_train(hist):\n",
    "    h = hist.history\n",
    "    if 'acc' in h:\n",
    "        meas='acc'\n",
    "        loc='lower right'\n",
    "    else:\n",
    "        meas='loss'\n",
    "        loc='upper right'\n",
    "    plt.figure(figsize=(20,8))\n",
    "    plt.plot(hist.history[meas])\n",
    "    plt.plot(hist.history['val_'+meas])\n",
    "    plt.title('model '+meas)\n",
    "    plt.ylabel(meas)\n",
    "    plt.xlabel('epoch')\n",
    "    plt.legend(['train', 'validation'], loc=loc)"
   ]
  },
  {
   "cell_type": "code",
   "execution_count": 12,
   "metadata": {},
   "outputs": [
    {
     "data": {
      "image/png": "[encoded data removed]",
      "text/plain": [
       "<matplotlib.figure.Figure at 0x7f4d8b83ffd0>"
      ]
     },
     "metadata": {},
     "output_type": "display_data"
    }
   ],
   "source": [
    "plot_train(history)"
   ]
  },
  {
   "cell_type": "code",
   "execution_count": 13,
   "metadata": {},
   "outputs": [
    {
     "name": "stdout",
     "output_type": "stream",
     "text": [
      "Blind testing accuracy: 0.523929471033\n"
     ]
    }
   ],
   "source": [
    "preds = model.predict(x50)\n",
    "print 'Blind testing accuracy:', (sum(lb.inverse_transform(preds)==50) / float(preds.shape[0]))"
   ]
  },
  {
   "cell_type": "code",
   "execution_count": null,
   "metadata": {
    "collapsed": true
   },
   "outputs": [],
   "source": [
    "# Second try with variable learning rate\n",
    "learning_rate = 0.8\n",
    "training_epochs = 3000\n",
    "decay_rate = learning_rate / training_epochs \n",
    "momentum = 0.8\n",
    "sgd = SGD(lr=learning_rate, momentum=momentum, decay=decay_rate, nesterov=False)"
   ]
  },
  {
   "cell_type": "raw",
   "metadata": {
    "collapsed": true
   },
   "source": [
    "model.compile(loss='categorical_crossentropy',\n",
    "              optimizer=sgd,\n",
    "              metrics=['acc'])"
   ]
  },
  {
   "cell_type": "code",
   "execution_count": null,
   "metadata": {
    "collapsed": true,
    "scrolled": true
   },
   "outputs": [],
   "source": [
    "history = model.fit(X_train, y_train,\n",
    "                    batch_size=batch_size,\n",
    "                    epochs=training_epochs,\n",
    "                    verbose=1, # This is for what we want it to display out as it trains \n",
    "                    validation_data=(X_test, y_test))"
   ]
  },
  {
   "cell_type": "code",
   "execution_count": null,
   "metadata": {
    "collapsed": true
   },
   "outputs": [],
   "source": [
    "plot_train(history)"
   ]
  },
  {
   "cell_type": "code",
   "execution_count": null,
   "metadata": {
    "collapsed": true
   },
   "outputs": [],
   "source": []
  },
  {
   "cell_type": "code",
   "execution_count": null,
   "metadata": {
    "collapsed": true
   },
   "outputs": [],
   "source": []
  }
 ],
 "metadata": {
  "kernelspec": {
   "display_name": "Python 2",
   "language": "python",
   "name": "python2"
  },
  "language_info": {
   "codemirror_mode": {
    "name": "ipython",
    "version": 2
   },
   "file_extension": ".py",
   "mimetype": "text/x-python",
   "name": "python",
   "nbconvert_exporter": "python",
   "pygments_lexer": "ipython2",
   "version": "2.7.12"
  }
 },
 "nbformat": 4,
 "nbformat_minor": 2
}
